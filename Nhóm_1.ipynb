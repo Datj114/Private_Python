{
  "cells": [
    {
      "cell_type": "markdown",
      "metadata": {
        "id": "view-in-github",
        "colab_type": "text"
      },
      "source": [
        "<a href=\"https://colab.research.google.com/github/Datj114/Private_Python/blob/main/Nh%C3%B3m_1.ipynb\" target=\"_parent\"><img src=\"https://colab.research.google.com/assets/colab-badge.svg\" alt=\"Open In Colab\"/></a>"
      ]
    },
    {
      "cell_type": "markdown",
      "metadata": {
        "id": "c4yNMreAWGzn"
      },
      "source": [
        "![image.png](data:image/png;base64,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)"
      ]
    },
    {
      "cell_type": "markdown",
      "metadata": {
        "id": "tLiWuixCM93v"
      },
      "source": [
        "#1. Giới thiệu về numpy.\n",
        "\n",
        "  Numpy là một thư viện lõi phục vụ cho khoa học máy tính của Python, hỗ trợ cho việc tính toán các mảng nhiều chiều, có kích thước lớn với các hàm đã được tối ưu áp dụng lên các mảng nhiều chiều đó."
      ]
    },
    {
      "cell_type": "markdown",
      "metadata": {
        "id": "Ct3BxOCAV7DA"
      },
      "source": [
        "#2. Cách cài đặt và import numpy."
      ]
    },
    {
      "cell_type": "markdown",
      "metadata": {
        "id": "lbn-SVSnWjRA"
      },
      "source": [
        "#2.1. Cách cài đặt:\n",
        "\n"
      ]
    },
    {
      "cell_type": "markdown",
      "metadata": {
        "id": "ByndfRmqWqDk"
      },
      "source": [
        "-   Nếu dùng Anaconda:"
      ]
    },
    {
      "cell_type": "code",
      "execution_count": null,
      "metadata": {
        "colab": {
          "base_uri": "https://localhost:8080/"
        },
        "id": "dN0bCryGWIny",
        "outputId": "88f9ff07-452b-4b31-fad7-608bcbf4759c"
      },
      "outputs": [
        {
          "name": "stdout",
          "output_type": "stream",
          "text": [
            "/bin/bash: line 1: conda: command not found\n"
          ]
        }
      ],
      "source": [
        "!conda install numpy"
      ]
    },
    {
      "cell_type": "code",
      "execution_count": null,
      "metadata": {
        "id": "KjrxOz3bbQqB"
      },
      "outputs": [],
      "source": []
    },
    {
      "cell_type": "markdown",
      "metadata": {
        "id": "JIXH4d0l9Ij-"
      },
      "source": [
        "- Nếu dùng Command Prompt:"
      ]
    },
    {
      "cell_type": "code",
      "execution_count": null,
      "metadata": {
        "colab": {
          "background_save": true,
          "base_uri": "https://localhost:8080/"
        },
        "id": "O6Fu_HHs9OZl",
        "outputId": "c5089c37-62a6-4614-dac5-2bdd3c1b95ed"
      },
      "outputs": [
        {
          "name": "stdout",
          "output_type": "stream",
          "text": [
            "Requirement already satisfied: numpy in /usr/local/lib/python3.10/dist-packages (1.23.5)\n"
          ]
        }
      ],
      "source": [
        "!pip install numpy"
      ]
    },
    {
      "cell_type": "markdown",
      "metadata": {
        "id": "dQ1XtEOh9dKg"
      },
      "source": [
        "##2.2. Cách import numpy.\n",
        "\n",
        "  Chúng ta có thể khai báo import numpy để bắt đầu sử dụng các hàm của numpy. Vì numpy là thư viện được sử dụng thường xuyên nên nó thường được khai báo gọn lại thành:"
      ]
    },
    {
      "cell_type": "code",
      "execution_count": null,
      "metadata": {
        "id": "95Xr4IosK0wN"
      },
      "outputs": [],
      "source": [
        "import numpy as np"
      ]
    },
    {
      "cell_type": "markdown",
      "metadata": {
        "id": "8U1ozgBJLT0z"
      },
      "source": [
        "#3. Khởi tạo 1 mảng bằng numpy\n",
        "\n"
      ]
    },
    {
      "cell_type": "markdown",
      "metadata": {
        "id": "csdH4Y_xWWCe"
      },
      "source": [
        "##3.1. Khởi tạo từ đầu:"
      ]
    },
    {
      "cell_type": "code",
      "execution_count": null,
      "metadata": {
        "colab": {
          "base_uri": "https://localhost:8080/"
        },
        "id": "ZHlOhK2iLeHP",
        "outputId": "d4e090f2-2d90-4bc0-8e9c-b20796078a7d"
      },
      "outputs": [
        {
          "output_type": "stream",
          "name": "stdout",
          "text": [
            "Mảng 1 chiều:\n",
            " [1 2 3 4 5]\n",
            "Mảng 2 chiều:\n",
            " [[1 2 3]\n",
            " [4 5 6]\n",
            " [7 8 9]]\n",
            "Mảng 3 chiều:\n",
            " [[[ 1  2  3]\n",
            "  [ 4  5  6]]\n",
            "\n",
            " [[ 7  8  9]\n",
            "  [10 11 12]]]\n"
          ]
        }
      ],
      "source": [
        "import numpy as np\n",
        "\n",
        "#Tạo mảng 1 chiều\n",
        "arr1d = np.array([1, 2, 3, 4, 5])\n",
        "\n",
        "#Tạo mảng 2 chiều\n",
        "arr2d = np.array([[1, 2, 3], [4, 5, 6], [7, 8, 9]])\n",
        "\n",
        "#Tạo mảng 3 chiều\n",
        "arr3d = np.array([[[1, 2, 3], [4, 5, 6]], [[7, 8, 9], [10, 11, 12]]])\n",
        "\n",
        "print('Mảng 1 chiều:\\n', arr1d)\n",
        "print('Mảng 2 chiều:\\n', arr2d)\n",
        "print('Mảng 3 chiều:\\n', arr3d)"
      ]
    },
    {
      "cell_type": "markdown",
      "metadata": {
        "id": "t-LVrKkDMXjo"
      },
      "source": [
        "#3.2. Khởi tạo ngẫu nhiên.\n"
      ]
    },
    {
      "cell_type": "code",
      "execution_count": null,
      "metadata": {
        "colab": {
          "base_uri": "https://localhost:8080/"
        },
        "id": "Tlav3w4QMsDu",
        "outputId": "e700dca1-2e7e-460c-e069-177c60e63604"
      },
      "outputs": [
        {
          "name": "stdout",
          "output_type": "stream",
          "text": [
            "[[0.45092719 0.03950691 0.07374347]\n",
            " [0.43066157 0.69587305 0.87167227]\n",
            " [0.21353043 0.52412171 0.59322403]]\n",
            "[[-0.73586058  0.5062105   0.93006003]\n",
            " [-0.67473264 -0.6039283  -0.78977244]\n",
            " [-0.33178175 -1.3266646   0.09046171]]\n"
          ]
        }
      ],
      "source": [
        "#Tạo mảng ngẫu nhiên từ phân phối đều [0, 1)\n",
        "random_arr = np.random.rand(3, 3) #Mảng 2 chiều 3x3\n",
        "print(random_arr)\n",
        "\n",
        "#Tạo mảng ngẫu nhiên từ phân phối chuẩn (Gaussian) có trung bình 0 và độ lệch chuẩn 1\n",
        "random_normal_arr = np.random.randn(3, 3) #Mảng 2 chiều 3x3\n",
        "print(random_normal_arr)"
      ]
    },
    {
      "cell_type": "markdown",
      "metadata": {
        "id": "pX0Br1i_NmNh"
      },
      "source": [
        "##3.3. Hàm tạo mảng đặc biệt.\n",
        "\n",
        "Có một số hàm tạo mảng đặc biệt như numpy.zeros(), numpy.ones(), numpy.arange(), numpy.linspace(), np.full(), np.eye(),..."
      ]
    },
    {
      "cell_type": "code",
      "execution_count": null,
      "metadata": {
        "colab": {
          "base_uri": "https://localhost:8080/"
        },
        "id": "VhLNlyr6N-ZR",
        "outputId": "45d5fec5-195d-42d7-ef02-ee00a5f5030c"
      },
      "outputs": [
        {
          "name": "stdout",
          "output_type": "stream",
          "text": [
            "[[0. 0.]\n",
            " [0. 0.]]\n",
            "[[1. 1. 1.]\n",
            " [1. 1. 1.]\n",
            " [1. 1. 1.]]\n",
            "[0 2 4 6 8]\n",
            "[0.   0.25 0.5  0.75 1.  ]\n",
            "[[10 10]\n",
            " [10 10]]\n",
            "[[1. 0. 0. 0.]\n",
            " [0. 1. 0. 0.]\n",
            " [0. 0. 1. 0.]\n",
            " [0. 0. 0. 1.]]\n"
          ]
        }
      ],
      "source": [
        "#Tạo mảng toàn số 0\n",
        "zeros_arr = np.zeros((2, 2))\n",
        "print(zeros_arr)\n",
        "\n",
        "#Tạo mảng toàn số 1\n",
        "ones_arr = np.ones((3, 3))\n",
        "print(ones_arr)\n",
        "\n",
        "#Tạo mảng với giá trị tăng dần từ start đến stop với bước step\n",
        "range_arr = np.arange(0, 10, 2)\n",
        "print(range_arr)\n",
        "\n",
        "#Tạo mảng với n giá trị từ start đến stop\n",
        "linspace_arr = np.linspace(0, 1, 5)\n",
        "#start = 0\n",
        "#end = 1\n",
        "#step = 5\n",
        "print(linspace_arr)\n",
        "\n",
        "#Tạo 1 mảng hằng\n",
        "full_arr = np.full((2, 2), 10)\n",
        "print(full_arr)\n",
        "\n",
        "#Tạo 1 ma trận đơn vị\n",
        "eye_arr = np.eye(4)\n",
        "print(eye_arr)"
      ]
    },
    {
      "cell_type": "markdown",
      "metadata": {
        "id": "qzL2yhtsOFcC"
      },
      "source": [
        "#4. Các thành phần của mảng.\n",
        "\n"
      ]
    },
    {
      "cell_type": "markdown",
      "metadata": {
        "id": "pnaymQEfYbid"
      },
      "source": [
        "- Mỗi một mảng sẽ đặc trưng bởi các thuộc tính của nó như định dạng, kích thước, số chiều, bộ nhớ. Trong tính toán ma trận, những thuộc tính này sẽ hữu ích để kiểm tra lỗi"
      ]
    },
    {
      "cell_type": "markdown",
      "metadata": {
        "id": "kTsjv16AWimJ"
      },
      "source": [
        "##4.1. Hình dạng mảng.\n"
      ]
    },
    {
      "cell_type": "markdown",
      "metadata": {
        "id": "3xaf6KeuWmLD"
      },
      "source": [
        "  - Đây là một tuple chứa số lượng phần tử trong mỗi chiều của mảng."
      ]
    },
    {
      "cell_type": "code",
      "execution_count": null,
      "metadata": {
        "colab": {
          "base_uri": "https://localhost:8080/"
        },
        "id": "14YBqiCqRgQA",
        "outputId": "fbcbc76a-225d-436e-af3e-185469dc1632"
      },
      "outputs": [
        {
          "name": "stdout",
          "output_type": "stream",
          "text": [
            "Hình dạng mảng: (2, 3)\n"
          ]
        }
      ],
      "source": [
        "import numpy as np\n",
        "\n",
        "arr = np.array([[1, 2, 3], [4, 5, 6]])\n",
        "print('Hình dạng mảng:', arr.shape)"
      ]
    },
    {
      "cell_type": "markdown",
      "metadata": {
        "id": "uNR3ddz6zMwh"
      },
      "source": [
        "##4.2. Số chiều của mảng."
      ]
    },
    {
      "cell_type": "code",
      "execution_count": null,
      "metadata": {
        "colab": {
          "base_uri": "https://localhost:8080/"
        },
        "id": "UxYXUU5BzmUu",
        "outputId": "af96d3d9-d987-429b-eafe-84d3ef0376ff"
      },
      "outputs": [
        {
          "name": "stdout",
          "output_type": "stream",
          "text": [
            "Số chiều của mảng: 2\n"
          ]
        }
      ],
      "source": [
        "arr = np.array([[1, 2, 3], [4, 5, 6]])\n",
        "print('Số chiều của mảng:', arr.ndim)"
      ]
    },
    {
      "cell_type": "markdown",
      "metadata": {
        "id": "IX60srBsz55Z"
      },
      "source": [
        "##4.3. Tổng số phần tử trong mảng."
      ]
    },
    {
      "cell_type": "code",
      "execution_count": null,
      "metadata": {
        "colab": {
          "base_uri": "https://localhost:8080/"
        },
        "id": "633qj-eHz-zC",
        "outputId": "bbc44cc2-7f4f-4f94-ffbd-5908c0a2eaa5"
      },
      "outputs": [
        {
          "name": "stdout",
          "output_type": "stream",
          "text": [
            "Tổng số phần tử của mảng: 6\n"
          ]
        }
      ],
      "source": [
        "arr = np.array([[1, 2, 3], [4, 5, 6]])\n",
        "print('Tổng số phần tử của mảng:', arr.size)"
      ]
    },
    {
      "cell_type": "markdown",
      "metadata": {
        "id": "nII55wibYdxI"
      },
      "source": [
        "## 4.4 Kiểu dữ liệu các phần tử trong mảng"
      ]
    },
    {
      "cell_type": "code",
      "execution_count": null,
      "metadata": {
        "colab": {
          "base_uri": "https://localhost:8080/"
        },
        "id": "y96gpuEJYiLC",
        "outputId": "13d56c00-fb67-4272-9342-8cae37eeb02d"
      },
      "outputs": [
        {
          "name": "stdout",
          "output_type": "stream",
          "text": [
            "Kiểu dữ liệu của các phần tử trong mảng: int64\n"
          ]
        }
      ],
      "source": [
        "arr = np.array([[1, 2, 3], [4, 5, 6]])\n",
        "print('Kiểu dữ liệu của các phần tử trong mảng:', arr.dtype)"
      ]
    },
    {
      "cell_type": "markdown",
      "metadata": {
        "id": "ABtzLhgfY_m4"
      },
      "source": [
        "## 4.5 Kích thước (trong byte) của mỗi phần tử trong mảng"
      ]
    },
    {
      "cell_type": "code",
      "execution_count": null,
      "metadata": {
        "colab": {
          "base_uri": "https://localhost:8080/"
        },
        "id": "Vi__RzbcZFRv",
        "outputId": "26dceb2f-6c66-4d48-b9c2-0a01ec2e8f35"
      },
      "outputs": [
        {
          "name": "stdout",
          "output_type": "stream",
          "text": [
            "kích thước (trong byte) của mỗi phần tử trong mảng: 8\n"
          ]
        }
      ],
      "source": [
        "arr = np.array([[1, 2, 3], [4, 5, 6]])\n",
        "print('kích thước (trong byte) của mỗi phần tử trong mảng:', arr.itemsize)"
      ]
    },
    {
      "cell_type": "markdown",
      "metadata": {
        "id": "CsQgAzjzZMJp"
      },
      "source": [
        "## 4.6 Tổng kích thước (trong byte) của mảng"
      ]
    },
    {
      "cell_type": "code",
      "execution_count": null,
      "metadata": {
        "colab": {
          "base_uri": "https://localhost:8080/"
        },
        "id": "7Wakvs5cZRjg",
        "outputId": "241c39c0-e780-48f4-9dab-529467b9e107"
      },
      "outputs": [
        {
          "name": "stdout",
          "output_type": "stream",
          "text": [
            "tổng kích thước (trong byte) của mảng: 48\n"
          ]
        }
      ],
      "source": [
        "arr = np.array([[1, 2, 3], [4, 5, 6]])\n",
        "print('tổng kích thước (trong byte) của mảng:', arr.nbytes)"
      ]
    },
    {
      "cell_type": "markdown",
      "metadata": {
        "id": "n9BDjPFMScrR"
      },
      "source": [
        "#5: Thêm , xóa và sắp xếp và tìm kiếm các phần tử trong mảng"
      ]
    },
    {
      "cell_type": "markdown",
      "metadata": {
        "id": "wrqBY4-6Sp1O"
      },
      "source": [
        "##5.1: Thêm các phần tử vào mảng"
      ]
    },
    {
      "cell_type": "markdown",
      "metadata": {
        "id": "DFtLBVCLSvYJ"
      },
      "source": [
        "- Thêm các phần tử vào mảng: np.append(arr, values, axis=None)\n",
        "\n",
        "  + arr: Mảng được thêm vào\n",
        "  + values: Giá trị được thêm vào\n",
        "  + axis: int, optional. Trục chỉ định khi các giá trị được thêm vào. Nếu trục không được cung cấp, cả hai mảng sẽ được làm phẳng.\n",
        "\n"
      ]
    },
    {
      "cell_type": "markdown",
      "metadata": {
        "id": "VwhFUV5kjOe7"
      },
      "source": [
        "  + axis = 0: xếp chồng theo chiều ngang\n",
        "  + axis = 1: xếp chồng theo chiều dọc\n",
        "  + axis = None: Làm phẳng mảng"
      ]
    },
    {
      "cell_type": "code",
      "execution_count": null,
      "metadata": {
        "colab": {
          "base_uri": "https://localhost:8080/"
        },
        "id": "OK9KwUKqS_rW",
        "outputId": "e65bf99d-343e-473e-a139-6297a9e9c0df"
      },
      "outputs": [
        {
          "name": "stdout",
          "output_type": "stream",
          "text": [
            "[ 0  2  4  6  8 10  3  5  7  9 11 13 13 15 17]\n"
          ]
        }
      ],
      "source": [
        "import numpy as np\n",
        "\n",
        "arr = np.array([[0,2,4,6,8,10],[3,5,7,9,11,13]])\n",
        "result = np.append(arr, [13,15,17])\n",
        "\n",
        "print(result)"
      ]
    },
    {
      "cell_type": "code",
      "execution_count": null,
      "metadata": {
        "colab": {
          "base_uri": "https://localhost:8080/"
        },
        "id": "6C88_GylVdSW",
        "outputId": "ff16cc8c-9e3a-492b-b676-d25a403d55eb"
      },
      "outputs": [
        {
          "name": "stdout",
          "output_type": "stream",
          "text": [
            "Mảng sau khi được xếp theo chiều ngang là:\n",
            " [0 1 3 5 7 9]\n"
          ]
        }
      ],
      "source": [
        "arr = np.array([0, 1, 3])\n",
        "arr1 = np.array([5, 7, 9])\n",
        "result = np.append(arr, arr1, axis=0)\n",
        "\n",
        "print('Mảng sau khi được xếp theo chiều ngang là:\\n',result)"
      ]
    },
    {
      "cell_type": "code",
      "execution_count": null,
      "metadata": {
        "colab": {
          "base_uri": "https://localhost:8080/"
        },
        "id": "hpa8j3ijYomz",
        "outputId": "ea860d65-0623-405a-916c-b126e66d1c38"
      },
      "outputs": [
        {
          "name": "stdout",
          "output_type": "stream",
          "text": [
            "Mảng sau khi được xếp theo chiều dọc là:\n",
            " [[ 0  2  4  5  7  9]\n",
            " [ 6  8 10 13 15 17]]\n"
          ]
        }
      ],
      "source": [
        "arr = np.array([[0,2,4],[6,8,10]])\n",
        "result = np.append(arr, [[5,7,9],[13,15,17]],axis = 1)\n",
        "\n",
        "print('Mảng sau khi được xếp theo chiều dọc là:\\n',result)"
      ]
    },
    {
      "cell_type": "markdown",
      "metadata": {
        "id": "Ah3y-vQ7Zh5n"
      },
      "source": [
        "##5.2: Xóa phần tử khỏi mảng: np.delete(arr, obj, axis=None)\n"
      ]
    },
    {
      "cell_type": "markdown",
      "metadata": {
        "id": "DXGMc7Jzjuo0"
      },
      "source": [
        "  - arr: mảng ban đầu\n",
        "  - obj: phần tử hoặc mảng con cần xóa\n",
        "  - axis: chiều muốn xóa (Nếu là '1' thì xóa cột hoặc '0' thì xóa hàng. Nếu axis = None thì trả về mảng phẳng)\n"
      ]
    },
    {
      "cell_type": "code",
      "execution_count": null,
      "metadata": {
        "colab": {
          "base_uri": "https://localhost:8080/"
        },
        "id": "MyL5cv14cas3",
        "outputId": "25590559-e0e7-4935-ef19-b285fe56cd45"
      },
      "outputs": [
        {
          "name": "stdout",
          "output_type": "stream",
          "text": [
            "np.arange(10) =  [0 1 2 3 4 5 6 7 8 9]\n",
            "np.delete(arr,2) =  [0 1 3 4 5 6 7 8 9]\n",
            "np.delete(arr,[4,1]) =  [0 2 3 5 6 7 8 9]\n"
          ]
        }
      ],
      "source": [
        "arr=np.arange(10)\n",
        "arr1 = np.delete(arr,2)\n",
        "arr2=np.delete(arr,[4,1])\n",
        "print(\"np.arange(10) = \", arr)\n",
        "print(\"np.delete(arr,2) = \",arr1)\n",
        "print(\"np.delete(arr,[4,1]) = \",arr2)\n"
      ]
    },
    {
      "cell_type": "code",
      "execution_count": null,
      "metadata": {
        "colab": {
          "base_uri": "https://localhost:8080/"
        },
        "id": "bHSc9CPJdFCP",
        "outputId": "f8679496-1473-4fc1-84f1-7d84bd86e1d4"
      },
      "outputs": [
        {
          "name": "stdout",
          "output_type": "stream",
          "text": [
            "arr =  [[ 0  1  2  3]\n",
            " [ 4  5  6  7]\n",
            " [ 8  9 10 11]]\n",
            "np.delete(arr, 1 , axis = 0) =  [[ 0  1  2  3]\n",
            " [ 8  9 10 11]]\n",
            "np.delete(arr, 2 ,  axis = 1) =  [[ 0  1  3]\n",
            " [ 4  5  7]\n",
            " [ 8  9 11]]\n",
            "np.delete(arr, 0,axis = None ) =  [ 1  2  3  4  5  6  7  8  9 10 11]\n",
            "np.delete(arr,[0,1,2],axis=0) =  []\n",
            "np.delete(arr,[0,1,2],axis=1) =  [[ 3]\n",
            " [ 7]\n",
            " [11]]\n",
            "np.delete(arr, slice(2), 1) =  [[ 2  3]\n",
            " [ 6  7]\n",
            " [10 11]]\n",
            "np.delete(arr, np.s_[:2],axis= 0) =  [[ 8  9 10 11]]\n"
          ]
        }
      ],
      "source": [
        "arr=np.arange(12).reshape(3,4)\n",
        "print(\"arr = \", arr)\n",
        "arr1=np.delete(arr, 1 , axis = 0)\n",
        "arr2=np.delete(arr, 2 ,  axis = 1)\n",
        "arr3=np.delete(arr, 0,axis = None )\n",
        "arr4=np.delete(arr,[0,1,2],axis=0)\n",
        "arr5=np.delete(arr,[0,1,2],axis=1)\n",
        "#Xóa nhiều cột Sử dụng thao tác cắt lát\n",
        "arr6 = np.delete(arr, slice(2), 1)\n",
        "#Xóa nhiều hàng sử dụng numpy.s_[]\n",
        "arr7 = np.delete(arr, np.s_[:2],axis= 0)\n",
        "\n",
        "print(\"np.delete(arr, 1 , axis = 0) = \",arr1)\n",
        "print(\"np.delete(arr, 2 ,  axis = 1) = \", arr2)\n",
        "print(\"np.delete(arr, 0,axis = None ) = \", arr3)\n",
        "print(\"np.delete(arr,[0,1,2],axis=0) = \", arr4)\n",
        "print(\"np.delete(arr,[0,1,2],axis=1) = \", arr5)\n",
        "print(\"np.delete(arr, slice(2), 1) = \", arr6)\n",
        "print(\"np.delete(arr, np.s_[:2],axis= 0) = \", arr7)"
      ]
    },
    {
      "cell_type": "markdown",
      "metadata": {
        "id": "IHS_m4XDgXNa"
      },
      "source": [
        "##5.3: Sắp xếp mảng: numpy.sort(arr, axis= -1, kind=None, order=None)\n",
        "   "
      ]
    },
    {
      "cell_type": "markdown",
      "metadata": {
        "id": "pGtZugsrh-Kp"
      },
      "source": [
        "   - arr: Mảng muốn sắp xếp\n",
        "   -  axis: Xác định trục xắp xếp. Nếu axis = None thì mảng sẽ được làm phẳng trước khi sắp xếp và theo mặc định, axis = -1 để sắp xếp mảng theo trục cuối cùng.\n",
        "   - order : Tham số này chỉ định trường nào cần so sánh đầu tiên. Nếu mảng có cấu trúc (tức là nếu nó có các trường được xác định), đối số này sẽ chỉ định trường sẽ sử dụng khi sắp xếp.\n",
        "   - kind: Mặc định là 'quicksort'. Các tùy chọn khác bao gồm 'mergesort' và 'heapsort'."
      ]
    },
    {
      "cell_type": "code",
      "execution_count": null,
      "metadata": {
        "colab": {
          "base_uri": "https://localhost:8080/"
        },
        "id": "G_gTyzEiiYPa",
        "outputId": "a9b609d4-cbc1-45a0-e493-c2c43d0d03cb"
      },
      "outputs": [
        {
          "name": "stdout",
          "output_type": "stream",
          "text": [
            "np.sort(arr) =  [ 1  3  5  6  8 12 15]\n",
            "arr[::-1].sort() =  [15 12  8  6  5  3  1]\n",
            "np.sort(arr)[::-1] =  [15 12  8  6  5  3  1]\n"
          ]
        }
      ],
      "source": [
        "arr = np.array([5,8,6,12,3,15,1])\n",
        "# sắp xếp mảng theo thứ tự tăng dần\n",
        "arr1 = np.sort(arr)\n",
        "# sắp xếp mảng theo thứ tự giảm dần\n",
        "arr[::-1].sort()\n",
        "# Lấy một mảng đã sắp xếp và đảo ngược thứ tự\n",
        "arr3 = np.sort(arr)[::-1]\n",
        "\n",
        "print(\"np.sort(arr) = \",arr1)\n",
        "print(\"arr[::-1].sort() = \",arr)\n",
        "print(\"np.sort(arr)[::-1] = \",arr3)"
      ]
    },
    {
      "cell_type": "code",
      "source": [
        "import numpy as np\n",
        "\n",
        "# Tạo một structured array\n",
        "data = np.array([(1, 'John', 28),\n",
        "                 (2, 'Jane', 22),\n",
        "                 (3, 'Doe', 35)],\n",
        "                dtype=[('id', int), ('name', 'U10'), ('age', int)])\n",
        "\n",
        "# Sắp xếp theo trường 'age'\n",
        "sorted_data = np.sort(data, order='age')\n",
        "\n",
        "print(sorted_data)"
      ],
      "metadata": {
        "id": "tjORjLgZXYMS",
        "outputId": "ea8246e0-0308-4267-97a1-af8e8103c1c0",
        "colab": {
          "base_uri": "https://localhost:8080/"
        }
      },
      "execution_count": null,
      "outputs": [
        {
          "output_type": "stream",
          "name": "stdout",
          "text": [
            "[(2, 'Jane', 22) (1, 'John', 28) (3, 'Doe', 35)]\n"
          ]
        }
      ]
    },
    {
      "cell_type": "code",
      "execution_count": null,
      "metadata": {
        "colab": {
          "base_uri": "https://localhost:8080/"
        },
        "id": "ZfKdfRLyjtQ0",
        "outputId": "c2cd010e-0db0-465b-fe41-5f80c30086a5"
      },
      "outputs": [
        {
          "name": "stdout",
          "output_type": "stream",
          "text": [
            "np.sort(arr, axis = -1) =  [[ 7 12 15]\n",
            " [ 5 11 13]\n",
            " [ 6  8 10]\n",
            " [45 54 70]]\n",
            "np.sort(arr, axis= None) =  [ 5  6  7  8 10 11 12 13 15 45 54 70]\n",
            "np.sort(arr, axis=0) =  [[ 8  5  7]\n",
            " [12  6 10]\n",
            " [13 15 11]\n",
            " [45 54 70]]\n",
            "np.sort(arr, axis=1) =  [[ 7 12 15]\n",
            " [ 5 11 13]\n",
            " [ 6  8 10]\n",
            " [45 54 70]]\n"
          ]
        }
      ],
      "source": [
        "arr = np.array([[12, 15, 7], [13, 5,11], [8, 6, 10],[45,54,70]])\n",
        "\n",
        "# Sắp xếp theo trục cuối cùng\n",
        "arr1 = np.sort(arr, axis = -1)\n",
        "print(\"np.sort(arr, axis = -1) = \", arr1)\n",
        "# Sắp xếp mảng nhiều chiều dọc theo một trục xác định\n",
        "arr2 = np.sort(arr, axis= None)\n",
        "print(\"np.sort(arr, axis= None) = \", arr2)\n",
        "# Sắp xếp theo cột (axis=0)\n",
        "arr3 = np.sort(arr, axis=0)\n",
        "print(\"np.sort(arr, axis=0) = \", arr3)\n",
        "# Sắp xếp theo hàng (axis=1)\n",
        "arr4 = np.sort(arr, axis=1)\n",
        "print(\"np.sort(arr, axis=1) = \",arr4)"
      ]
    },
    {
      "cell_type": "code",
      "execution_count": null,
      "metadata": {
        "colab": {
          "base_uri": "https://localhost:8080/"
        },
        "id": "BYyP8dRckaED",
        "outputId": "f45a18d3-2b57-4be8-c80f-49c4639ee5e2"
      },
      "outputs": [
        {
          "name": "stdout",
          "output_type": "stream",
          "text": [
            "[['grapes' 'mango' 'orange']\n",
            " ['apple' 'banana' 'cherry']\n",
            " ['jackfruit' 'papaya' 'watermelon']]\n"
          ]
        }
      ],
      "source": [
        "#Sắp xếp mảng theo thứ tự bảng chữ cái\n",
        "arr = np.array([['orange','mango','grapes'], ['banana','cherry','apple'], ['papaya','watermelon','jackfruit']])\n",
        "arr2 = np.sort(arr)\n",
        "print(arr2)"
      ]
    },
    {
      "cell_type": "code",
      "execution_count": null,
      "metadata": {
        "colab": {
          "base_uri": "https://localhost:8080/"
        },
        "id": "2aXon6Grkhxg",
        "outputId": "3d9d5df3-9610-4da4-b972-addb31470e5f"
      },
      "outputs": [
        {
          "name": "stdout",
          "output_type": "stream",
          "text": [
            "[False False  True  True  True  True]\n"
          ]
        }
      ],
      "source": [
        "#Sắp xếp mảng có giá trị boolean\n",
        "arr_bool = np.array([True, False, True, True, False, True])\n",
        "sorted_arr_bool = np.sort(arr_bool)\n",
        "print(sorted_arr_bool)"
      ]
    },
    {
      "cell_type": "markdown",
      "metadata": {
        "id": "OwMrCxwAqF4h"
      },
      "source": [
        "## 5.4: Tìm kiếm phần tử trong mảng"
      ]
    },
    {
      "cell_type": "markdown",
      "metadata": {
        "id": "gw2dqIcNqL2V"
      },
      "source": [
        "- Hàm numpy.searchsorted() và numpy.where() trong thư viện NumPy là hai hàm được sử dụng để thực hiện tìm kiếm trong mảng và trả về các chỉ số của các phần tử thỏa mãn điều kiện.\n",
        "  + Hàm numpy.searchsorted() được sử dụng để tìm vị trí mà các phần tử mới có thể được chèn vào mảng sao cho mảng vẫn duy trì tính chất được sắp xếp.\n",
        "  + Hàm numpy.where() được sử dụng để trả về các chỉ số của các phần tử thỏa mãn một điều kiện."
      ]
    },
    {
      "cell_type": "code",
      "execution_count": null,
      "metadata": {
        "colab": {
          "base_uri": "https://localhost:8080/"
        },
        "id": "wTpTxd4dqQXM",
        "outputId": "25b96395-eac5-499c-9e44-06d1126df86f"
      },
      "outputs": [
        {
          "output_type": "stream",
          "name": "stdout",
          "text": [
            "Chỉ số chèn 5 vào mảng để duy trì sắp xếp: 3\n"
          ]
        }
      ],
      "source": [
        "import numpy as np\n",
        "# Tạo một mảng đã sắp xếp\n",
        "arr = np.array([1, 2, 4, 5, 6, 8])\n",
        "\n",
        "# Tìm vị trí chèn giá trị 5 để duy trì sắp xếp\n",
        "value = 5\n",
        "index = np.searchsorted(arr, value)\n",
        "print(f\"Chỉ số chèn {value} vào mảng để duy trì sắp xếp: {index}\")\n"
      ]
    },
    {
      "cell_type": "code",
      "execution_count": null,
      "metadata": {
        "colab": {
          "base_uri": "https://localhost:8080/"
        },
        "id": "4vFqNlXhoiEV",
        "outputId": "b9281429-eab2-420c-9ab2-a31e633f853b"
      },
      "outputs": [
        {
          "name": "stdout",
          "output_type": "stream",
          "text": [
            "Chỉ số của các phần tử lớn hơn 4: (array([3, 4, 5]),)\n"
          ]
        }
      ],
      "source": [
        "# Tạo một mảng\n",
        "arr = np.array([1, 2, 4, 5, 6, 8])\n",
        "\n",
        "# Tìm chỉ số của các phần tử lớn hơn 4\n",
        "condition = (arr > 4)\n",
        "indices = np.where(condition)\n",
        "\n",
        "print(f\"Chỉ số của các phần tử lớn hơn 4: {indices}\")"
      ]
    },
    {
      "cell_type": "markdown",
      "metadata": {
        "id": "srVBpmW8lvXh"
      },
      "source": [
        "# 6: Cách định hình và thay đổi mảng"
      ]
    },
    {
      "cell_type": "markdown",
      "metadata": {
        "id": "k7tXUCXAl_RZ"
      },
      "source": [
        "## 6.1: Định hình mảng"
      ]
    },
    {
      "cell_type": "markdown",
      "metadata": {
        "id": "OpCfbm4KmHH7"
      },
      "source": [
        " - np.reshape (): sẽ cung cấp một hình dạng mới cho một mảng mà không làm thay đổi dữ liệu.\n",
        " - np.reshape(arr, newshape, order='C')\n",
        "     - arr:mảng nguồn mà chúng tôi muốn định hình lại\n",
        "     - newshape: (int or tuple of ints):là một bộ hoặc một số nguyên có hình dạng của mảng mới. Khi newshape là số nguyên thì mảng mới sẽ có một chiều.\n",
        "     - order: {‘C’, ‘F’, ‘A’}, optional :cho phép bạn xác định cách cấu hình dữ liệu trong mảng mới"
      ]
    },
    {
      "cell_type": "code",
      "execution_count": null,
      "metadata": {
        "colab": {
          "base_uri": "https://localhost:8080/"
        },
        "id": "CnXYj174mTM_",
        "outputId": "2c0093f5-440a-4cf2-bfca-66e25c3b3d57"
      },
      "outputs": [
        {
          "name": "stdout",
          "output_type": "stream",
          "text": [
            "Mảng ban đầu: [ 0  1  2  3  4  5  6  7  8  9 10 11]\n",
            "Mảng sau khi được định hình:\n",
            " [[ 0  1  2]\n",
            " [ 3  4  5]\n",
            " [ 6  7  8]\n",
            " [ 9 10 11]]\n"
          ]
        }
      ],
      "source": [
        "import numpy as np\n",
        "\n",
        "x=np.arange(12)\n",
        "y=np.reshape(x, (4,3))\n",
        "print(\"Mảng ban đầu:\",x)\n",
        "print(\"Mảng sau khi được định hình:\\n\",y)"
      ]
    },
    {
      "cell_type": "markdown",
      "metadata": {
        "id": "otBDgzabbzHb"
      },
      "source": [
        "- ravel() là một phương thức trong thư viện NumPy của Python, được sử dụng để làm phẳng mảng (flatten array). Nó chuyển đổi mảng nhiều chiều thành mảng một chiều"
      ]
    },
    {
      "cell_type": "code",
      "execution_count": null,
      "metadata": {
        "colab": {
          "base_uri": "https://localhost:8080/"
        },
        "id": "_XxfqPxqoEVA",
        "outputId": "6ca7d5e6-6f6a-44af-cbda-fb35ec4de72f"
      },
      "outputs": [
        {
          "name": "stdout",
          "output_type": "stream",
          "text": [
            "Mảng ban đầu:\n",
            " [[1 2 3]\n",
            " [4 5 6]]\n",
            "Mảng sau khi được trải phẳng: [1 2 3 4 5 6]\n"
          ]
        }
      ],
      "source": [
        "x = np.array([[1,2,3], [4,5,6]])\n",
        "y = x.ravel()\n",
        "\n",
        "print('Mảng ban đầu:\\n', x)\n",
        "print('Mảng sau khi được trải phẳng:', y)"
      ]
    },
    {
      "cell_type": "code",
      "execution_count": null,
      "metadata": {
        "colab": {
          "base_uri": "https://localhost:8080/"
        },
        "id": "S2zwLrz3ofU9",
        "outputId": "2fbf9bc0-04ef-4f70-e909-4d0808ebc22f"
      },
      "outputs": [
        {
          "name": "stdout",
          "output_type": "stream",
          "text": [
            "x= [ 0  1  2  3  4  5  6  7  8  9 10 11]\n",
            "y= [[ 0  4  8]\n",
            " [ 1  5  9]\n",
            " [ 2  6 10]\n",
            " [ 3  7 11]]\n"
          ]
        }
      ],
      "source": [
        "#Thứ tự chỉ mục giống Fortran\n",
        "x=np.arange(12)\n",
        "y=np.reshape(x, (4, 3), order='F')\n",
        "print(\"x=\",x)\n",
        "print(\"y=\",y)"
      ]
    },
    {
      "cell_type": "code",
      "execution_count": null,
      "metadata": {
        "colab": {
          "base_uri": "https://localhost:8080/"
        },
        "id": "aEuNkwMRoxpS",
        "outputId": "305241cc-a52d-4b02-864d-98fca6293550"
      },
      "outputs": [
        {
          "name": "stdout",
          "output_type": "stream",
          "text": [
            "x= [ 0  1  2  3  4  5  6  7  8  9 10 11]\n",
            "y= [[ 0  4  8]\n",
            " [ 1  5  9]\n",
            " [ 2  6 10]\n",
            " [ 3  7 11]]\n"
          ]
        }
      ],
      "source": [
        "x=np.arange(12)\n",
        "y=np.reshape(np.ravel(x, order='F'), (4, 3), order='F')\n",
        "print(\"x=\",x)\n",
        "print(\"y=\",y)"
      ]
    },
    {
      "cell_type": "code",
      "execution_count": null,
      "metadata": {
        "colab": {
          "base_uri": "https://localhost:8080/"
        },
        "id": "5X4h26V2o7uY",
        "outputId": "85850805-ee00-438e-86d5-245ac47b6ab5"
      },
      "outputs": [
        {
          "name": "stdout",
          "output_type": "stream",
          "text": [
            "x= [ 0  1  2  3  4  5  6  7  8  9 10 11]\n",
            "y= [[ 0  1  2  3  4  5]\n",
            " [ 6  7  8  9 10 11]]\n"
          ]
        }
      ],
      "source": [
        "#giá trị không xác định được suy ra là 2\n",
        "x=np.arange(12)\n",
        "y=np.reshape(x, (2, -1))\n",
        "print(\"x=\",x)\n",
        "print(\"y=\",y)"
      ]
    },
    {
      "cell_type": "markdown",
      "metadata": {
        "id": "TAUALDt9pxsg"
      },
      "source": [
        "## 6.2: Chuyển vị các chiều"
      ]
    },
    {
      "cell_type": "markdown",
      "metadata": {
        "id": "Vo4U_F2mqKZ8"
      },
      "source": [
        "- np.transpose(array, axes = None)\n",
        "    - array: mảng cần chuyển đổi\n",
        "    - axes : (tuple or list of ints, optional): Nếu không chỉ định trục, thì theo mặc định, nó sẽ đảo ngược các kích thước nếu không sẽ hoán vị trục theo các giá trị đã cho."
      ]
    },
    {
      "cell_type": "code",
      "execution_count": null,
      "metadata": {
        "colab": {
          "base_uri": "https://localhost:8080/"
        },
        "id": "yaNxwYQbqqIE",
        "outputId": "c1924516-2aad-466a-d151-847f9b21659a"
      },
      "outputs": [
        {
          "name": "stdout",
          "output_type": "stream",
          "text": [
            "Mảng ban đầu:\n",
            " [[0 1 2]\n",
            " [3 4 5]]\n",
            "Mảng sau khi chuyển vị:\n",
            " [[0 3]\n",
            " [1 4]\n",
            " [2 5]]\n"
          ]
        }
      ],
      "source": [
        "import numpy as np\n",
        "\n",
        "a = np.arange(6).reshape((2,3))\n",
        "b = np.transpose(a)\n",
        "print(\"Mảng ban đầu:\\n\",a)\n",
        "print(\"Mảng sau khi chuyển vị:\\n\",b)"
      ]
    },
    {
      "cell_type": "code",
      "execution_count": null,
      "metadata": {
        "colab": {
          "base_uri": "https://localhost:8080/"
        },
        "id": "btRoiv8ErBIW",
        "outputId": "e2aa7972-79ea-4edd-832a-f117968eb7c6"
      },
      "outputs": [
        {
          "name": "stdout",
          "output_type": "stream",
          "text": [
            "Mảng ban dầu:\n",
            " [[1 2]\n",
            " [4 5]\n",
            " [7 8]]\n",
            "Mảng sau khi hoán đổi theo trục (1,0):\n",
            " [[1 4 7]\n",
            " [2 5 8]]\n"
          ]
        }
      ],
      "source": [
        "#numpy.transpose () với trục\n",
        "\n",
        "a = np.array([[1, 2], [4, 5], [7, 8]])\n",
        "b = np.transpose(a, (1,0))\n",
        "print(\"Mảng ban dầu:\\n\",a)\n",
        "print(\"Mảng sau khi hoán đổi theo trục (1,0):\\n\",b)"
      ]
    },
    {
      "cell_type": "code",
      "execution_count": null,
      "metadata": {
        "colab": {
          "base_uri": "https://localhost:8080/"
        },
        "id": "TliI1aPurHy-",
        "outputId": "c4e431fd-c66f-4655-c9f4-1678a6f44db0"
      },
      "outputs": [
        {
          "name": "stdout",
          "output_type": "stream",
          "text": [
            "b= (32, 64, 12, 123)\n",
            "c= (12, 64, 32, 123)\n"
          ]
        }
      ],
      "source": [
        "#Định vị lại các phần tử bằng cách sử dụng numpy.transpose ()\n",
        "\n",
        "a=np.ones((12,32,123,64))\n",
        "b=np.transpose(a,(1,3,0,2)).shape\n",
        "c=np.transpose(a,(0,3,1,2)).shape\n",
        "print(\"b=\",b)\n",
        "print(\"c=\",c)"
      ]
    },
    {
      "cell_type": "markdown",
      "metadata": {
        "id": "QqGNVFour4r_"
      },
      "source": [
        "## 6.3: Ghép mảng"
      ]
    },
    {
      "cell_type": "markdown",
      "metadata": {
        "id": "oAdJIg9br95F"
      },
      "source": [
        "- np.concatenate ((a1, a2, ...), axis):\n",
        "   - Tham số này xác định trình tự của mảng. Ở đây, a1, a2, a3 … là các mảng có hình dạng giống nhau, ngoại trừ chiều tương ứng với trục.\n",
        "   - axis(int, optional): ham số này xác định trục mà mảng sẽ được nối với nhau. Theo mặc định, giá trị của nó là 0.Nó sẽ trả về một ndarray chứa các phần tử của cả hai mảng."
      ]
    },
    {
      "cell_type": "code",
      "execution_count": null,
      "metadata": {
        "colab": {
          "base_uri": "https://localhost:8080/"
        },
        "id": "z3mlIMaGr8-k",
        "outputId": "7f5a40b3-20ae-4586-9814-c04ad6d2e832"
      },
      "outputs": [
        {
          "name": "stdout",
          "output_type": "stream",
          "text": [
            "[[ 1  2]\n",
            " [ 3  4]\n",
            " [12 30]]\n"
          ]
        }
      ],
      "source": [
        "x=np.array([[1,2],[3,4]])\n",
        "y=np.array([[12,30]])\n",
        "z=np.concatenate((x,y))\n",
        "print(z)"
      ]
    },
    {
      "cell_type": "code",
      "execution_count": null,
      "metadata": {
        "colab": {
          "base_uri": "https://localhost:8080/"
        },
        "id": "iZnABo3Esymv",
        "outputId": "cfeedca3-342d-4197-c6cd-229a2c7221c4"
      },
      "outputs": [
        {
          "name": "stdout",
          "output_type": "stream",
          "text": [
            "Mảng sau khi nối theo chiều dọc:\n",
            " [[ 1  2]\n",
            " [ 3  4]\n",
            " [12 30]]\n"
          ]
        }
      ],
      "source": [
        "#numpy.concatenate () với axis = 0\n",
        "x=np.array([[1,2],[3,4]])\n",
        "y=np.array([[12,30]])\n",
        "z=np.concatenate((x,y), axis=0)\n",
        "print('Mảng sau khi nối theo chiều dọc:\\n', z)"
      ]
    },
    {
      "cell_type": "markdown",
      "metadata": {
        "id": "ByE5Z0_qpiNQ"
      },
      "source": [
        "- Ngoài hàm np.concatenate(), các bạn có thể dùng các hàm như: np.stack(), np.vstack(), np.hstack()"
      ]
    },
    {
      "cell_type": "code",
      "execution_count": null,
      "metadata": {
        "colab": {
          "base_uri": "https://localhost:8080/"
        },
        "id": "bGXzBYy-pwuz",
        "outputId": "e0895292-f32e-4a6a-fefe-e9c0b2812cac"
      },
      "outputs": [
        {
          "name": "stdout",
          "output_type": "stream",
          "text": [
            "Ghép ma trận theo chiều dọc:\n",
            " [[[ 1  2  3]\n",
            "  [ 7  8  9]]\n",
            "\n",
            " [[ 4  5  6]\n",
            "  [10 11 12]]]\n",
            "Ghép ma trận theo chiều ngang:\n",
            " [[[ 1  2  3]\n",
            "  [ 4  5  6]]\n",
            "\n",
            " [[ 7  8  9]\n",
            "  [10 11 12]]]\n",
            "Ghép ma trận theo chiều sâu:\n",
            " [[[ 1  4]\n",
            "  [ 2  5]\n",
            "  [ 3  6]]\n",
            "\n",
            " [[ 7 10]\n",
            "  [ 8 11]\n",
            "  [ 9 12]]]\n",
            "Nối ma trận theo chiều dọc:\n",
            " [[ 1  2  3]\n",
            " [ 7  8  9]\n",
            " [ 4  5  6]\n",
            " [10 11 12]]\n",
            "Nối ma trận theo chiều ngang:\n",
            " [[ 1  2  3  4  5  6]\n",
            " [ 7  8  9 10 11 12]]\n"
          ]
        }
      ],
      "source": [
        "a = np.array([[1,2,3], [7,8,9]])\n",
        "b = np.array([[4,5,6], [10,11,12]])\n",
        "\n",
        "print('Ghép ma trận theo chiều dọc:\\n', np.stack((a, b), axis=0))\n",
        "print('Ghép ma trận theo chiều ngang:\\n', np.stack((a, b), axis=1))\n",
        "print('Ghép ma trận theo chiều sâu:\\n',np.stack((a, b), axis= 2))\n",
        "\n",
        "print('Nối ma trận theo chiều dọc:\\n',np.vstack((a, b)))\n",
        "\n",
        "print('Nối ma trận theo chiều ngang:\\n',np.hstack((a, b)))\n"
      ]
    },
    {
      "cell_type": "markdown",
      "metadata": {
        "id": "OUDxvsFGyDNC"
      },
      "source": [
        "## 6.4:Chia mảng"
      ]
    },
    {
      "cell_type": "code",
      "execution_count": null,
      "metadata": {
        "colab": {
          "base_uri": "https://localhost:8080/"
        },
        "id": "qjvINbES8yyY",
        "outputId": "c5181df0-425e-4c0e-d251-1291b63f26aa"
      },
      "outputs": [
        {
          "name": "stdout",
          "output_type": "stream",
          "text": [
            "[0 1 2 3 4 5 6 7]\n",
            "[array([0, 1, 2]), array([3, 4, 5]), array([6, 7])]\n"
          ]
        }
      ],
      "source": [
        "x = np.arange(8)\n",
        "y = np.array_split(x, 3)\n",
        "print(x)\n",
        "print(y)"
      ]
    },
    {
      "cell_type": "markdown",
      "metadata": {
        "id": "pypgYJWStVIw"
      },
      "source": [
        "## 6.5: Mở rộng mảng"
      ]
    },
    {
      "cell_type": "markdown",
      "metadata": {
        "id": "w_r01C4_tZPQ"
      },
      "source": [
        "- np.expand_dims(arr, axis)\n",
        "   - arr: mảng đầu vào.\n",
        "   - axis (int or tuple of ints): Vị trí trong các trục mở rộng nơi đặt trục (hoặc các trục) mới."
      ]
    },
    {
      "cell_type": "code",
      "execution_count": null,
      "metadata": {
        "colab": {
          "base_uri": "https://localhost:8080/"
        },
        "id": "cJy1PAHkuuWU",
        "outputId": "3529b702-c050-4cf5-c236-34323d0e425b"
      },
      "outputs": [
        {
          "name": "stdout",
          "output_type": "stream",
          "text": [
            "x.shape= (2,)\n",
            "\n",
            "np.expand_dims(x, axis=0)= [[1 2]]\n",
            "y1.shape= (1, 2)\n",
            "\n",
            "np.expand_dims(x, axis=1)= [[1]\n",
            " [2]]\n",
            "y2.shape= (2, 1)\n",
            "\n",
            "np.expand_dims(x, axis=(0, 1)= [[[1 2]]]\n",
            "\n",
            "np.expand_dims(x, axis=(2, 0))= [[[1]\n",
            "  [2]]]\n"
          ]
        }
      ],
      "source": [
        "x = np.array([1, 2])\n",
        "print(\"x.shape=\",x.shape)\n",
        "print()\n",
        "#axis = 0\n",
        "y1 = np.expand_dims(x, axis=0)\n",
        "print(\"np.expand_dims(x, axis=0)=\",y1)\n",
        "print(\"y1.shape=\",y1.shape)\n",
        "print()\n",
        "#axis = 1\n",
        "y2 = np.expand_dims(x, axis=1)\n",
        "print(\"np.expand_dims(x, axis=1)=\",y2)\n",
        "print(\"y2.shape=\",y2.shape)\n",
        "print()\n",
        "#  cũng có thể là một bộ dữ liệu:\n",
        "y3 = np.expand_dims(x, axis=(0, 1))\n",
        "print(\"np.expand_dims(x, axis=(0, 1)=\",y3)\n",
        "print()\n",
        "\n",
        "y4 = np.expand_dims(x, axis=(2, 0))\n",
        "print(\"np.expand_dims(x, axis=(2, 0))=\",y4)"
      ]
    },
    {
      "cell_type": "markdown",
      "metadata": {
        "id": "dFgcsvwoCH-2"
      },
      "source": [
        "## 6.6 Làm phẳng mảng"
      ]
    },
    {
      "cell_type": "code",
      "execution_count": null,
      "metadata": {
        "colab": {
          "base_uri": "https://localhost:8080/"
        },
        "id": "rHtoMMq3CfDl",
        "outputId": "b5be0270-1581-4f73-90a9-3ae083930227"
      },
      "outputs": [
        {
          "name": "stdout",
          "output_type": "stream",
          "text": [
            "Mảng sau khi làm phẳng (flatten): [ 1  2  3  4  5  6  7  8  9 10 11 12]\n",
            "Mảng sau khi làm phẳng (ravel): [ 1  2  3  4  5  6  7  8  9 10 11 12]\n"
          ]
        }
      ],
      "source": [
        "# Tạo một mảng đa chiều 3x4\n",
        "arr = np.array([[1, 2, 3, 4],\n",
        "                [5, 6, 7, 8],\n",
        "                [9, 10, 11, 12]])\n",
        "\n",
        "# Làm phẳng mảng đa chiều thành mảng một chiều\n",
        "flattened_arr = arr.flatten()\n",
        "print(\"Mảng sau khi làm phẳng (flatten):\", flattened_arr)\n",
        "\n",
        "# Sử dụng phương thức ravel() để làm phẳng mảng\n",
        "raveled_arr = arr.ravel()\n",
        "print(\"Mảng sau khi làm phẳng (ravel):\", raveled_arr)"
      ]
    },
    {
      "cell_type": "markdown",
      "metadata": {
        "id": "RvMoypM1jf_2"
      },
      "source": [
        "## 6.7 Đảo ngược mảng"
      ]
    },
    {
      "cell_type": "markdown",
      "metadata": {
        "id": "HrlHGhgfjjWL"
      },
      "source": [
        "- Chức năng của NumPy np.flip()cho phép bạn lật hoặc đảo ngược nội dung của một mảng dọc theo một trục. Khi sử dụng np.flip(), hãy chỉ định mảng bạn muốn đảo ngược và trục. Nếu bạn không chỉ định trục, NumPy sẽ đảo ngược nội dung dọc theo tất cả các trục của mảng đầu vào của bạn."
      ]
    },
    {
      "cell_type": "code",
      "execution_count": null,
      "metadata": {
        "colab": {
          "base_uri": "https://localhost:8080/"
        },
        "id": "60bYzmHPjk74",
        "outputId": "afbe149a-ad6d-4039-d30e-64971eb2b80b"
      },
      "outputs": [
        {
          "name": "stdout",
          "output_type": "stream",
          "text": [
            "Mảng sau khi đảo ngược: [8 7 6 5 4 3 2 1]\n"
          ]
        }
      ],
      "source": [
        "arr = np.array([1, 2, 3, 4, 5, 6, 7, 8])\n",
        "reversed_arr = np.flip(arr)\n",
        "\n",
        "print('Mảng sau khi đảo ngược:', reversed_arr)"
      ]
    },
    {
      "cell_type": "code",
      "execution_count": null,
      "metadata": {
        "colab": {
          "base_uri": "https://localhost:8080/"
        },
        "id": "X7iZezM-mJnM",
        "outputId": "b92ebb77-951a-4147-c363-64101290d346"
      },
      "outputs": [
        {
          "name": "stdout",
          "output_type": "stream",
          "text": [
            "[[12 11 10  9]\n",
            " [ 8  7  6  5]\n",
            " [ 4  3  2  1]]\n"
          ]
        }
      ],
      "source": [
        "# Ta cũng có thể đảo ngược mảng 2 chiều\n",
        "arr_2d = np.array([[1, 2, 3, 4], [5, 6, 7, 8], [9, 10, 11, 12]])\n",
        "reversed_arr = np.flip(arr_2d)\n",
        "print(reversed_arr)"
      ]
    },
    {
      "cell_type": "markdown",
      "metadata": {
        "id": "s4PPzHj1mWDR"
      },
      "source": [
        "- Bạn có thể dễ dàng đảo ngược chỉ các hàng hoặc các cột:"
      ]
    },
    {
      "cell_type": "code",
      "execution_count": null,
      "metadata": {
        "colab": {
          "base_uri": "https://localhost:8080/"
        },
        "id": "caQQzvJrmZGC",
        "outputId": "6defc5d8-1d78-4938-f04c-55d6ef12e227"
      },
      "outputs": [
        {
          "name": "stdout",
          "output_type": "stream",
          "text": [
            "Mảng sau khi đảo ngược các hàng:\n",
            " [[ 9 10 11 12]\n",
            " [ 5  6  7  8]\n",
            " [ 1  2  3  4]]\n",
            "Mảng sau khi đảo ngược các cột:\n",
            " [[ 4  3  2  1]\n",
            " [ 8  7  6  5]\n",
            " [12 11 10  9]]\n"
          ]
        }
      ],
      "source": [
        "reversed_arr_rows = np.flip(arr_2d, axis=0)\n",
        "print('Mảng sau khi đảo ngược các hàng:\\n', reversed_arr_rows)\n",
        "\n",
        "reversed_arr_columns = np.flip(arr_2d, axis=1)\n",
        "print('Mảng sau khi đảo ngược các cột:\\n', reversed_arr_columns)"
      ]
    },
    {
      "cell_type": "markdown",
      "metadata": {
        "id": "q4JOnkZd8fOM"
      },
      "source": [
        "#7: Truy cập mảng trên Numpy"
      ]
    },
    {
      "cell_type": "markdown",
      "metadata": {
        "id": "523K6Bzv8j8I"
      },
      "source": [
        "##7.1: Index"
      ]
    },
    {
      "cell_type": "markdown",
      "metadata": {
        "id": "btbVnyl38wui"
      },
      "source": [
        "- Truy cập các phần tử mảng"
      ]
    },
    {
      "cell_type": "code",
      "execution_count": null,
      "metadata": {
        "colab": {
          "base_uri": "https://localhost:8080/"
        },
        "id": "fznYr3mP8pMb",
        "outputId": "e7752ae7-4b7f-4fd9-c992-9b5e2bea0e15"
      },
      "outputs": [
        {
          "name": "stdout",
          "output_type": "stream",
          "text": [
            "arr[0]= 1\n",
            "arr[2] + arr[3]= 7\n"
          ]
        }
      ],
      "source": [
        "import numpy as np\n",
        "\n",
        "arr = np.array([1, 2, 3, 4])\n",
        "\n",
        "print(\"arr[0]=\",arr[0])\n",
        "\n",
        "arr = np.array([1, 2, 3, 4])\n",
        "\n",
        "print(\"arr[2] + arr[3]=\",arr[2] + arr[3])"
      ]
    },
    {
      "cell_type": "markdown",
      "metadata": {
        "id": "vKmOcM_R84fd"
      },
      "source": [
        "- Truy cập mảng 2-chiều"
      ]
    },
    {
      "cell_type": "code",
      "execution_count": null,
      "metadata": {
        "colab": {
          "base_uri": "https://localhost:8080/"
        },
        "id": "e1rDJn1d85O9",
        "outputId": "fefe09aa-42bc-4b05-d73a-3bde4faf752e"
      },
      "outputs": [
        {
          "name": "stdout",
          "output_type": "stream",
          "text": [
            "2nd element on 1st row:  2\n",
            "5th element on 2nd row:  10\n"
          ]
        }
      ],
      "source": [
        "arr = np.array([[1,2,3,4,5], [6,7,8,9,10]])\n",
        "\n",
        "print('2nd element on 1st row: ', arr[0][1])\n",
        "\n",
        "print('5th element on 2nd row: ', arr[1, 4])"
      ]
    },
    {
      "cell_type": "markdown",
      "metadata": {
        "id": "8UlbZgEx8_zA"
      },
      "source": [
        "- Truy cập mảng 3 chiều"
      ]
    },
    {
      "cell_type": "code",
      "execution_count": null,
      "metadata": {
        "colab": {
          "base_uri": "https://localhost:8080/"
        },
        "id": "zTsPHnqP9F9a",
        "outputId": "b573eb71-22a8-440d-d10b-b1c8564e1fd5"
      },
      "outputs": [
        {
          "name": "stdout",
          "output_type": "stream",
          "text": [
            "6\n"
          ]
        }
      ],
      "source": [
        "arr = np.array([[[1, 2, 3], [4, 5, 6]], [[7, 8, 9], [10, 11, 12]]])\n",
        "\n",
        "print(arr[0, 1, 2])"
      ]
    },
    {
      "cell_type": "markdown",
      "metadata": {
        "id": "AyEQy2nR9Rh8"
      },
      "source": [
        "- Sử dụng lập chỉ mục phủ định để truy cập một mảng từ cuối"
      ]
    },
    {
      "cell_type": "code",
      "execution_count": null,
      "metadata": {
        "colab": {
          "base_uri": "https://localhost:8080/"
        },
        "id": "wIH10Kxa9SLr",
        "outputId": "9971a1d4-43ab-4afc-c25e-850bbb90ac26"
      },
      "outputs": [
        {
          "name": "stdout",
          "output_type": "stream",
          "text": [
            "Last element from 2nd dim:  10\n"
          ]
        }
      ],
      "source": [
        "arr = np.array([[1,2,3,4,5], [6,7,8,9,10]])\n",
        "\n",
        "print('Last element from 2nd dim: ', arr[1, -1])"
      ]
    },
    {
      "cell_type": "markdown",
      "metadata": {
        "id": "2outgEDa9Yk0"
      },
      "source": [
        "- Slicing and striding"
      ]
    },
    {
      "cell_type": "code",
      "execution_count": null,
      "metadata": {
        "colab": {
          "base_uri": "https://localhost:8080/"
        },
        "id": "xFyr11sN9bMi",
        "outputId": "2c153780-b226-4f86-935e-e12c8eef57da"
      },
      "outputs": [
        {
          "name": "stdout",
          "output_type": "stream",
          "text": [
            "x[1:7:2]= [1 3 5]\n",
            "x[-2:10]= [8 9]\n",
            "x[-3:3:-1]= [7 6 5 4]\n",
            "x[5:]= [5 6 7 8 9]\n"
          ]
        }
      ],
      "source": [
        "x = np.array([0, 1, 2, 3, 4, 5, 6, 7, 8, 9])\n",
        "print(\"x[1:7:2]=\",x[1:7:2])\n",
        "print(\"x[-2:10]=\",x[-2:10])\n",
        "print(\"x[-3:3:-1]=\",x[-3:3:-1])\n",
        "print(\"x[5:]=\",x[5:])"
      ]
    },
    {
      "cell_type": "markdown",
      "metadata": {
        "id": "va1KMkBp1slX"
      },
      "source": [
        "- Các bạn có thể truy xuất mảng theo điều kiện bằng cách truyền vào đó 1 condition"
      ]
    },
    {
      "cell_type": "code",
      "execution_count": null,
      "metadata": {
        "colab": {
          "base_uri": "https://localhost:8080/"
        },
        "id": "Jz53b9C110fX",
        "outputId": "7be54776-e362-4093-c112-068a7007c33a"
      },
      "outputs": [
        {
          "name": "stdout",
          "output_type": "stream",
          "text": [
            "Mảng các phần tử lớn hơn 5: [ 6  7  8  9 10]\n",
            "Mảng các phần tử chẵn: [ 2  4  6  8 10]\n"
          ]
        }
      ],
      "source": [
        "arr = np.array([1,2,3,4,5,6,7,8,9,10])\n",
        "\n",
        "print('Mảng các phần tử lớn hơn 5:', arr[arr > 5])\n",
        "print('Mảng các phần tử chẵn:', arr[arr % 2 == 0])\n"
      ]
    },
    {
      "cell_type": "markdown",
      "metadata": {
        "id": "8nRwE9612PTl"
      },
      "source": [
        "- Bạn cũng có thể sử dụng các toán tử logic & và | để trả về các giá trị boolean xác định liệu các giá trị trong một mảng có đáp ứng một điều kiện nhất định hay không"
      ]
    },
    {
      "cell_type": "code",
      "execution_count": null,
      "metadata": {
        "colab": {
          "base_uri": "https://localhost:8080/"
        },
        "id": "T8WurX0h2U55",
        "outputId": "4f132bb6-2335-4c48-ceca-47927d0a3676"
      },
      "outputs": [
        {
          "output_type": "stream",
          "name": "stdout",
          "text": [
            "[[False False False  True]\n",
            " [ True  True  True False]\n",
            " [ True  True False  True]]\n"
          ]
        }
      ],
      "source": [
        "import numpy as np\n",
        "arr = np.array([[1, 3, 5, -7], [10, -8, 6, 4], [-2, 9, 0, -1]])\n",
        "\n",
        "a = (arr > 5) | (arr < 0)\n",
        "# print(arr[a])\n",
        "print(a)"
      ]
    },
    {
      "cell_type": "markdown",
      "metadata": {
        "id": "5S0ZxmwAK-n5"
      },
      "source": [
        " #### Các bạn có thể xem thêm [tại đây:](https://numpy.org/doc/stable/user/basics.indexing.html)"
      ]
    },
    {
      "cell_type": "markdown",
      "metadata": {
        "id": "aHFZ0RfV-Ccc"
      },
      "source": [
        "## 7.2: Slicing"
      ]
    },
    {
      "cell_type": "markdown",
      "metadata": {
        "id": "cU32Z_2V-GPu"
      },
      "source": [
        "- array[start:stop:step]\n",
        "   - start: chỉ mục của phần tử đầu tiên\n",
        "   - stop: chỉ mục của phần tử cuối cùng\n",
        "   - step: kích thước bước giữa mỗi phần tử"
      ]
    },
    {
      "cell_type": "code",
      "execution_count": null,
      "metadata": {
        "colab": {
          "base_uri": "https://localhost:8080/"
        },
        "id": "qw0-u14Z-kon",
        "outputId": "04500b8f-7fa4-49e1-cafe-df08510156db"
      },
      "outputs": [
        {
          "name": "stdout",
          "output_type": "stream",
          "text": [
            "arr[1:6]= [ 5  7  9 11 15]\n",
            "arr[3:]= [ 9 11 15 18 22]\n",
            "arr[:5]= [ 3  5  7  9 11]\n",
            "arr[::3]= [ 3  9 18]\n",
            "arr[-5:-2]= [ 9 11 15]\n",
            "arr[-3:]= [15 18 22]\n",
            "arr[3::4]= [ 9 22]\n"
          ]
        }
      ],
      "source": [
        "arr = np.array([3, 5, 7, 9, 11, 15, 18, 22])\n",
        "print(\"arr[1:6]=\",arr[1:6])\n",
        "# Vị trí bắt đầu từ số 3 đến hết\n",
        "print(\"arr[3:]=\",arr[3:])\n",
        "\n",
        "# Vị trí bắt đầu đến vị trí số 5\n",
        "print (\"arr[:5]=\",arr[:5])\n",
        "\n",
        "# Sử dụng giá trị bước để lấy các phần tử\n",
        "print(\"arr[::3]=\",arr[::3])\n",
        "\n",
        "# Sử dụng step âm để lấy các phần tử từ cuối\n",
        "print(\"arr[-5:-2]=\",arr[-5:-2])\n",
        "print(\"arr[-3:]=\",arr[-3:])\n",
        "\n",
        "#  Use slicing with interval\n",
        "print(\"arr[3::4]=\",arr[3::4])\n",
        "\n",
        "\n"
      ]
    },
    {
      "cell_type": "markdown",
      "metadata": {
        "id": "TR60eqhICr2u"
      },
      "source": [
        "- Mảng 2 chiều:\n",
        "   - array[row_start:row_stop:row_step, col_start:col_stop:col_step]"
      ]
    },
    {
      "cell_type": "code",
      "execution_count": null,
      "metadata": {
        "colab": {
          "base_uri": "https://localhost:8080/"
        },
        "id": "ztJnxBsE_vkS",
        "outputId": "3bdcdc55-f8b5-4515-9930-1a45e11a6158"
      },
      "outputs": [
        {
          "name": "stdout",
          "output_type": "stream",
          "text": [
            "[[ 1  3]\n",
            " [ 9 11]]\n"
          ]
        }
      ],
      "source": [
        "# Mảng 2 chiều\n",
        "array1 = np.array([[1, 3, 5, 7],\n",
        "                   [9, 11, 13, 15]])\n",
        "\n",
        "print(array1[:2, :2])"
      ]
    },
    {
      "cell_type": "code",
      "execution_count": null,
      "metadata": {
        "colab": {
          "base_uri": "https://localhost:8080/"
        },
        "id": "V66SYOok_4MH",
        "outputId": "9760f629-a673-4571-c9fd-8ee374d530e3"
      },
      "outputs": [
        {
          "name": "stdout",
          "output_type": "stream",
          "text": [
            "(2, 2, 5)\n",
            "[2 4]\n"
          ]
        }
      ],
      "source": [
        "# Mảng 3 chiều\n",
        "arr = np.array([[[3, 5, 7, 9, 11],\n",
        "                [2, 4, 6, 8, 10]],\n",
        "               [[5, 7, 8, 9, 2],\n",
        "                [7, 2, 3, 6, 7]]])\n",
        "print(arr.shape)\n",
        "print(arr[0,1,0:2] )"
      ]
    },
    {
      "cell_type": "markdown",
      "metadata": {
        "id": "Y0G0PfJTA7WT"
      },
      "source": [
        "- Sửa đổi các phần tử mảng bằng cách sử dụng Slicing"
      ]
    },
    {
      "cell_type": "code",
      "execution_count": null,
      "metadata": {
        "colab": {
          "base_uri": "https://localhost:8080/"
        },
        "id": "-tEil2SOA8Kz",
        "outputId": "75980e4b-6553-4af7-ffa3-335bf830a7ae"
      },
      "outputs": [
        {
          "name": "stdout",
          "output_type": "stream",
          "text": [
            "[ 2  4  6 20 20 20]\n",
            "\n",
            "[40 40 40 20 20 20]\n",
            "\n",
            "[40 40 22 22 22 20]\n",
            "\n",
            "[40 16 22 16 22 20]\n"
          ]
        }
      ],
      "source": [
        "numbers = np.array([2, 4, 6, 8, 10, 12])\n",
        "numbers[3:] = 20\n",
        "print(numbers)\n",
        "print()\n",
        "numbers[:3] = 40\n",
        "print(numbers)\n",
        "print()\n",
        "numbers[2:5] = 22\n",
        "print(numbers)\n",
        "print()\n",
        "numbers[1:5:2] = 16\n",
        "print(numbers)"
      ]
    },
    {
      "cell_type": "markdown",
      "metadata": {
        "id": "pJ0lSrQECgoI"
      },
      "source": [
        "- Đảo ngược mảng NumPy bằng cách sử dụng cắt âm"
      ]
    },
    {
      "cell_type": "code",
      "execution_count": null,
      "metadata": {
        "colab": {
          "base_uri": "https://localhost:8080/"
        },
        "id": "0-YLd_glChor",
        "outputId": "b02366da-58ae-4dfa-cbaa-487329773c86"
      },
      "outputs": [
        {
          "name": "stdout",
          "output_type": "stream",
          "text": [
            "[12 10  8  6  4  2]\n"
          ]
        }
      ],
      "source": [
        "numbers = np.array([2, 4, 6, 8, 10, 12])\n",
        "\n",
        "reversed_numbers = numbers[::-1]\n",
        "print(reversed_numbers)"
      ]
    },
    {
      "cell_type": "markdown",
      "metadata": {
        "id": "2Kz5PtJUDDC8"
      },
      "source": [
        "# 8.Các phép toán cơ bản trên mảng"
      ]
    },
    {
      "cell_type": "markdown",
      "metadata": {
        "id": "xdcvRoMhDruM"
      },
      "source": [
        "![image.png](data:image/png;base64,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)"
      ]
    },
    {
      "cell_type": "code",
      "execution_count": null,
      "metadata": {
        "colab": {
          "base_uri": "https://localhost:8080/"
        },
        "id": "qqEBFsceDIFf",
        "outputId": "3058cebd-bdf6-42a8-ec37-07a8c391e95f"
      },
      "outputs": [
        {
          "name": "stdout",
          "output_type": "stream",
          "text": [
            "Mảng a ban đầu\n",
            "[[0. 1. 2.]\n",
            " [3. 4. 5.]\n",
            " [6. 7. 8.]]\n",
            "\n",
            "Mảng b ban đầu\n",
            "[10 10 10]\n",
            "\n",
            "Cộng 2 mảng\n",
            "[[10. 11. 12.]\n",
            " [13. 14. 15.]\n",
            " [16. 17. 18.]]\n",
            "\n",
            "Trừ 2 mảng\n",
            "[[-10.  -9.  -8.]\n",
            " [ -7.  -6.  -5.]\n",
            " [ -4.  -3.  -2.]]\n",
            "\n",
            "Nhân 2 mảng\n",
            "[[ 0. 10. 20.]\n",
            " [30. 40. 50.]\n",
            " [60. 70. 80.]]\n",
            "\n",
            "Chia 2 mảng\n",
            "[[0.  0.1 0.2]\n",
            " [0.3 0.4 0.5]\n",
            " [0.6 0.7 0.8]]\n"
          ]
        }
      ],
      "source": [
        "\n",
        "# Tao mang a la mang 2 chieu co kich thuoc 3 x 3\n",
        "a = np.arange(9, dtype = np.float_).reshape(3,3)\n",
        "\n",
        "print(\"Mảng a ban đầu\")\n",
        "print(a)\n",
        "print()\n",
        "\n",
        "# Tao mang b la mang 1 chieu co kich thuoc 1 x 3\n",
        "b = np.array([10,10,10])\n",
        "print(\"Mảng b ban đầu\")\n",
        "print(b)\n",
        "print()\n",
        "\n",
        "print(\"Cộng 2 mảng\")\n",
        "print(np.add(a,b))\n",
        "print()\n",
        "\n",
        "print('Trừ 2 mảng')\n",
        "print(np.subtract(a,b))\n",
        "print()\n",
        "\n",
        "print('Nhân 2 mảng')\n",
        "print(np.multiply(a,b))\n",
        "print()\n",
        "\n",
        "print('Chia 2 mảng')\n",
        "print(np.divide(a,b))"
      ]
    },
    {
      "cell_type": "markdown",
      "metadata": {
        "id": "dSBSrXjAEW_h"
      },
      "source": [
        "- Tính nghịch đảo các phần tử mảng"
      ]
    },
    {
      "cell_type": "code",
      "execution_count": null,
      "metadata": {
        "colab": {
          "base_uri": "https://localhost:8080/"
        },
        "id": "Dd1974OoEX1R",
        "outputId": "96058e9b-47fb-427c-ac3c-e3983eca2dbc"
      },
      "outputs": [
        {
          "name": "stdout",
          "output_type": "stream",
          "text": [
            "Mảng a ban đầu\n",
            "[0.25  0.5   0.2   0.125]\n",
            "\n",
            "Mảng a gồm các phần tử nghịch đảo\n",
            "[4. 2. 5. 8.]\n"
          ]
        }
      ],
      "source": [
        "# Tao mang a\n",
        "a = np.array([0.25, 0.5, 0.2, 0.125])\n",
        "\n",
        "print(\"Mảng a ban đầu\")\n",
        "print(a)\n",
        "print()\n",
        "\n",
        "# Tinh nghich dao cac phan tu trong mang a\n",
        "a = np.reciprocal(a)\n",
        "print(\"Mảng a gồm các phần tử nghịch đảo\")\n",
        "print(a)"
      ]
    },
    {
      "cell_type": "markdown",
      "metadata": {
        "id": "uv9nx-nUEces"
      },
      "source": [
        "- Tính lũy thừa các phần tử mảng"
      ]
    },
    {
      "cell_type": "code",
      "execution_count": null,
      "metadata": {
        "colab": {
          "base_uri": "https://localhost:8080/"
        },
        "id": "O9RPfcx8EfHF",
        "outputId": "878be3fe-271b-4abf-d198-46b81f00c721"
      },
      "outputs": [
        {
          "name": "stdout",
          "output_type": "stream",
          "text": [
            "Mang a ban dau\n",
            "[2 4 6 8 0]\n",
            "\n",
            "Mang a sau khi tinh luy thua a^2\n",
            "[ 4 16 36 64  0]\n"
          ]
        }
      ],
      "source": [
        "\n",
        "# Tao mang a\n",
        "a = np.array([2, 4, 6, 8, 0])\n",
        "\n",
        "print(\"Mang a ban dau\")\n",
        "print(a)\n",
        "print()\n",
        "\n",
        "# Tinh a^2 cac phan tu co trong mang a\n",
        "a = np.power(a,2)\n",
        "print(\"Mang a sau khi tinh luy thua a^2\")\n",
        "print(a)"
      ]
    },
    {
      "cell_type": "markdown",
      "metadata": {
        "id": "XMQd-HsGEkTH"
      },
      "source": [
        "- Phép chia lấy dư giữa hai mảng"
      ]
    },
    {
      "cell_type": "code",
      "execution_count": null,
      "metadata": {
        "colab": {
          "base_uri": "https://localhost:8080/"
        },
        "id": "_PJNgC81ElHr",
        "outputId": "176b6489-6554-4293-8fda-0d156c043cb3"
      },
      "outputs": [
        {
          "name": "stdout",
          "output_type": "stream",
          "text": [
            "Mang a ban dau\n",
            "[[10 12 14]\n",
            " [16 18 20]\n",
            " [22 24 28]]\n",
            "\n",
            "Mang b ban dau\n",
            "[3 5 7]\n",
            "\n",
            "Mang a chia lay phan du cho mang b\n",
            "[[1 2 0]\n",
            " [1 3 6]\n",
            " [1 4 0]]\n"
          ]
        }
      ],
      "source": [
        "\n",
        "# Tao mang a la mang 2 chieu co kich thuoc 3 x 3\n",
        "a = np.array([\n",
        "    [10, 12, 14],\n",
        "    [16, 18, 20],\n",
        "    [22, 24, 28]\n",
        "])\n",
        "print(\"Mang a ban dau\")\n",
        "print(a)\n",
        "print()\n",
        "\n",
        "# Mang b la mang 1 chieu co kich thuoc 1 x 3\n",
        "b = np.array([3, 5, 7])\n",
        "print(\"Mang b ban dau\")\n",
        "print(b)\n",
        "print()\n",
        "\n",
        "print(\"Mang a chia lay phan du cho mang b\")\n",
        "print(np.mod(a,b))"
      ]
    },
    {
      "cell_type": "markdown",
      "metadata": {
        "id": "vnDwx2QTEvYN"
      },
      "source": [
        "- Giá trị tuyệt đối (absolute value)\n"
      ]
    },
    {
      "cell_type": "code",
      "execution_count": null,
      "metadata": {
        "colab": {
          "base_uri": "https://localhost:8080/"
        },
        "id": "w8uznbJeEv8-",
        "outputId": "970d9275-5f7b-4351-d2e6-97be10f2b2fb"
      },
      "outputs": [
        {
          "name": "stdout",
          "output_type": "stream",
          "text": [
            "[5 4 3 3 2 1]\n",
            "[5 4 3 3 2 1]\n"
          ]
        }
      ],
      "source": [
        "y = np.array([-5, -4, -3, 3, 2, 1])\n",
        "print(np.absolute(y))\n",
        "print(np.abs(y))"
      ]
    },
    {
      "cell_type": "markdown",
      "metadata": {
        "id": "ud5BfB4-E8pv"
      },
      "source": [
        "- Hàm lượng giác"
      ]
    },
    {
      "cell_type": "code",
      "execution_count": null,
      "metadata": {
        "colab": {
          "base_uri": "https://localhost:8080/"
        },
        "id": "3pc8qKxPE9YK",
        "outputId": "02c6cee4-bab9-45bf-f1bc-128812852bc2"
      },
      "outputs": [
        {
          "name": "stdout",
          "output_type": "stream",
          "text": [
            "[ 0.0000000e+00  1.0000000e+00  1.2246468e-16 -1.0000000e+00\n",
            " -2.4492936e-16]\n",
            "[ 1.0000000e+00  6.1232340e-17 -1.0000000e+00 -1.8369702e-16\n",
            "  1.0000000e+00]\n"
          ]
        }
      ],
      "source": [
        "theta = np.array([0, np.pi / 2, np.pi, 3*np.pi/2, np.pi * 2])\n",
        "# Mảng có giá trị lần lượt là 0, pi/2, pi, 3pi/2 và 2pi\n",
        "print(np.sin(theta))\n",
        "print(np.cos(theta))"
      ]
    },
    {
      "cell_type": "code",
      "execution_count": null,
      "metadata": {
        "colab": {
          "base_uri": "https://localhost:8080/"
        },
        "id": "aoWl40bxFGNM",
        "outputId": "3880bf0e-57a6-499d-f31a-f3b8bf88c20c"
      },
      "outputs": [
        {
          "name": "stdout",
          "output_type": "stream",
          "text": [
            "[-1.57079633  0.          1.57079633]\n",
            "[3.14159265 1.57079633 0.        ]\n",
            "[-0.78539816  0.          0.78539816]\n"
          ]
        }
      ],
      "source": [
        "x = [-1, 0, 1]\n",
        "print(np.arcsin(x))\n",
        "print(np.arccos(x))\n",
        "print(np.arctan(x))"
      ]
    },
    {
      "cell_type": "markdown",
      "metadata": {
        "id": "fns0Efo0FHZQ"
      },
      "source": [
        "- Hàm logarit"
      ]
    },
    {
      "cell_type": "code",
      "execution_count": null,
      "metadata": {
        "colab": {
          "base_uri": "https://localhost:8080/"
        },
        "id": "fWDiIlTtFMTO",
        "outputId": "8011c1c7-9ab3-4417-898f-df6a8ca4781e"
      },
      "outputs": [
        {
          "name": "stdout",
          "output_type": "stream",
          "text": [
            "x =  [1, 2, 3, 4]\n",
            "ln(x) = [0.         0.69314718 1.09861229 1.38629436]\n",
            "log2(x) = [0.        1.        1.5849625 2.       ]\n",
            "log10(x) = [0.         0.30103    0.47712125 0.60205999]\n"
          ]
        }
      ],
      "source": [
        "x = [1, 2, 3, 4]\n",
        "print(\"x = \", x)\n",
        "print(\"ln(x) =\", np.log(x))\n",
        "print(\"log2(x) =\", np.log2(x))\n",
        "print(\"log10(x) =\", np.log10(x))"
      ]
    },
    {
      "cell_type": "markdown",
      "metadata": {
        "id": "eisoUME1rn16"
      },
      "source": [
        "- Hàm exponetial cho phép ta tính số mũ cơ số tự nhiên (e~2,71828)\n",
        " của bất kỳ các ma trận nào theo công thức: f(x) = eˣ"
      ]
    },
    {
      "cell_type": "code",
      "execution_count": null,
      "metadata": {
        "colab": {
          "base_uri": "https://localhost:8080/"
        },
        "id": "DjGKdkbrrqSE",
        "outputId": "e3e133d9-cba2-4157-c563-e2a36abdfec6"
      },
      "outputs": [
        {
          "name": "stdout",
          "output_type": "stream",
          "text": [
            "[[3 1 2 1 5]\n",
            " [0 2 6 5 3]]\n",
            "[[ 20.08553692   2.71828183   7.3890561    2.71828183 148.4131591 ]\n",
            " [  1.           7.3890561  403.42879349 148.4131591   20.08553692]]\n"
          ]
        }
      ],
      "source": [
        "arr = np.array([[3, 1, 2, 1, 5],\n",
        "                [0, 2, 6, 5, 3]])\n",
        "print(arr)\n",
        "print(np.exp(arr))"
      ]
    },
    {
      "cell_type": "markdown",
      "metadata": {
        "id": "j-J2zty8Fr9D"
      },
      "source": [
        "- Tính toán trên các mảng khác chiều với broadcasting"
      ]
    },
    {
      "cell_type": "code",
      "execution_count": null,
      "metadata": {
        "colab": {
          "base_uri": "https://localhost:8080/"
        },
        "id": "6boKAXsOFs3N",
        "outputId": "0ffcee8e-d199-40cf-dd70-80ae5a6f46db"
      },
      "outputs": [
        {
          "name": "stdout",
          "output_type": "stream",
          "text": [
            "[3 4 5]\n",
            "[[1. 1. 1.]\n",
            " [1. 1. 1.]\n",
            " [1. 1. 1.]]\n",
            "m + a =\n",
            "[[1. 2. 3.]\n",
            " [1. 2. 3.]\n",
            " [1. 2. 3.]]\n"
          ]
        }
      ],
      "source": [
        "a = np.array([0, 1, 2])\n",
        "b = np.array([3, 3, 3])\n",
        "print(a + 3)\n",
        "m = np.ones((3, 3))\n",
        "print(m)\n",
        "print(\"m + a =\")\n",
        "print(m + a)"
      ]
    },
    {
      "cell_type": "markdown",
      "metadata": {
        "id": "b1uf721MBeR7"
      },
      "source": [
        "- Tích vô hướng"
      ]
    },
    {
      "cell_type": "code",
      "execution_count": null,
      "metadata": {
        "colab": {
          "base_uri": "https://localhost:8080/"
        },
        "id": "-X1NPdlaBhx6",
        "outputId": "695ea5ef-5d08-4cb4-91fe-8e4ea959a77a"
      },
      "outputs": [
        {
          "name": "stdout",
          "output_type": "stream",
          "text": [
            "Tích vô hướng của 2 vector:  32\n"
          ]
        }
      ],
      "source": [
        "# Khởi tạo vector\n",
        "vector_a = np.array([1, 2, 3])\n",
        "vector_b = np.array([4, 5, 6])\n",
        "\n",
        "#Tính tích vô hướng của 2 vector\n",
        "dot_product=np.dot(vector_a,vector_b)\n",
        "print(\"Tích vô hướng của 2 vector: \",dot_product)"
      ]
    },
    {
      "cell_type": "markdown",
      "metadata": {
        "id": "CxypSwxwBvOE"
      },
      "source": [
        "- Tích có hướng"
      ]
    },
    {
      "cell_type": "code",
      "execution_count": null,
      "metadata": {
        "colab": {
          "base_uri": "https://localhost:8080/"
        },
        "id": "kWMWVyYfBxzm",
        "outputId": "cc980b57-e26b-4738-d105-4706de4c73f4"
      },
      "outputs": [
        {
          "name": "stdout",
          "output_type": "stream",
          "text": [
            "Tích có hướng của 2 vector:  [-3  6 -3]\n"
          ]
        }
      ],
      "source": [
        "# Khởi tạo vector\n",
        "vector_a = np.array([1, 2, 3])\n",
        "vector_b = np.array([4, 5, 6])\n",
        "\n",
        "#Tính tích có hướng của 2 vector\n",
        "cross_product=np.cross(vector_a,vector_b)\n",
        "print(\"Tích có hướng của 2 vector: \",cross_product)"
      ]
    },
    {
      "cell_type": "markdown",
      "metadata": {
        "id": "0YckkYGTYiz6"
      },
      "source": [
        "# 9. Một số hàm trên NumPy"
      ]
    },
    {
      "cell_type": "markdown",
      "metadata": {
        "id": "Fc24uKF9Y6R-"
      },
      "source": [
        "## 9.1 min, max, mean, sum"
      ]
    },
    {
      "cell_type": "markdown",
      "metadata": {
        "id": "C2qlPU1Aajhm"
      },
      "source": [
        "- Numpy cung cấp một loạt các hàm thống kê thông dụng theo chiều dòng hoặc cột như min, max, mean, sum. Trong tất cả các công thức bên dưới thì axis=1 là theo dòng và axis=0 là theo cột.\n",
        " + min: Tìm phần tử nhỏ nhất của ma trận\n",
        " + max: Tìm giá trị lớn nhất của ma trận\n",
        " + mean: Tìm giá trị trung bình của ma trận\n",
        " + sum: Tính tổng các phần tử của ma trận"
      ]
    },
    {
      "cell_type": "code",
      "execution_count": null,
      "metadata": {
        "colab": {
          "base_uri": "https://localhost:8080/"
        },
        "id": "v3ap9sERqWfg",
        "outputId": "f03e5c8e-14f0-4da0-e25c-81588b2afe7f"
      },
      "outputs": [
        {
          "name": "stdout",
          "output_type": "stream",
          "text": [
            "Giá trị nhỏ nhất: 1\n",
            "Giá trị lớn nhất: 6\n",
            "Giá trị trung bình: 3.5\n",
            "Tổng các phần tử: 21\n",
            "Giá trị nhỏ nhất theo hàng: [1 4]\n",
            "Giá trị lớn nhất theo cột: [4 5 6]\n",
            "Giá trị trung bình theo hàng: [2. 5.]\n",
            "Tổng các phần tử theo cột: [5 7 9]\n"
          ]
        }
      ],
      "source": [
        "import numpy as np\n",
        "\n",
        "a = np.array([[1,2,3],\n",
        "              [4,5,6]])\n",
        "\n",
        "# Tìm giá trị của cả ma trận\n",
        "print('Giá trị nhỏ nhất:', np.min(a))\n",
        "print('Giá trị lớn nhất:', np.max(a))\n",
        "print('Giá trị trung bình:', np.mean(a))\n",
        "print('Tổng các phần tử:', np.sum(a))\n",
        "\n",
        "# Tìm giá trị theo hàng hoặc cột\n",
        "print('Giá trị nhỏ nhất theo hàng:', np.min(a, axis = 1))\n",
        "print('Giá trị lớn nhất theo cột:', np.max(a, axis = 0))\n",
        "print('Giá trị trung bình theo hàng:', np.mean(a, axis = 1))\n",
        "print('Tổng các phần tử theo cột:', np.sum(a, axis = 0))\n"
      ]
    },
    {
      "cell_type": "markdown",
      "metadata": {
        "id": "WAQO66CYtqIE"
      },
      "source": [
        "- Các bạn có thể lấy giá trị của 1 hàng hay 1 cột bất kì theo 2 cách như sau"
      ]
    },
    {
      "cell_type": "code",
      "execution_count": null,
      "metadata": {
        "colab": {
          "base_uri": "https://localhost:8080/"
        },
        "id": "r0kzSVVTuKI-",
        "outputId": "42893374-366d-4ccd-c940-322ec1f5f4dc"
      },
      "outputs": [
        {
          "name": "stdout",
          "output_type": "stream",
          "text": [
            "Giá trị nhỏ nhất của hàng thứ nhất: 1\n",
            "Giá trị nhỏ nhất của hàng thứ nhất: 1\n",
            "Giá trị lớn nhất của cột thứ 2: 5\n",
            "Giá trị lớn nhất của cột thứ 2: 5\n"
          ]
        }
      ],
      "source": [
        "# Theo hàng\n",
        "print('Giá trị nhỏ nhất của hàng thứ nhất:', np.min(a, axis = 1)[0])\n",
        "print('Giá trị nhỏ nhất của hàng thứ nhất:', np.min(a[0, :]))\n",
        "\n",
        "# Theo cột\n",
        "print('Giá trị lớn nhất của cột thứ 2:', np.max(a, axis = 0)[1])\n",
        "print('Giá trị lớn nhất của cột thứ 2:', np.max(a[:, 1]))"
      ]
    },
    {
      "cell_type": "markdown",
      "metadata": {
        "id": "SVin47ipya4_"
      },
      "source": [
        "## 9.2 Hàm minimum và maximum"
      ]
    },
    {
      "cell_type": "markdown",
      "metadata": {
        "id": "J6D5Kw3yypBR"
      },
      "source": [
        "- Trong NumPy, bạn có thể sử dụng hàm np.minimum() và np.maximum() để tìm giá trị nhỏ nhất và lớn nhất theo vị trí tương ứng từ hai mảng (hoặc từ một mảng và một số)."
      ]
    },
    {
      "cell_type": "code",
      "execution_count": null,
      "metadata": {
        "colab": {
          "base_uri": "https://localhost:8080/"
        },
        "id": "WROtCpWJywCu",
        "outputId": "fd1b36b6-107c-4367-afb8-7c4ba39e9a87"
      },
      "outputs": [
        {
          "name": "stdout",
          "output_type": "stream",
          "text": [
            "Giá trị nhỏ nhất từng phần tử: [1 2 3]\n",
            "Giá trị lớn nhất từng phần tử: [4 5 6]\n",
            "Giá trị nhỏ nhất so với số 2: [1 2 2]\n",
            "Giá trị lớn nhất so với số 2: [4 2 6]\n"
          ]
        }
      ],
      "source": [
        "import numpy as np\n",
        "\n",
        "arr1 = np.array([1, 5, 3])\n",
        "arr2 = np.array([4, 2, 6])\n",
        "\n",
        "min_values = np.minimum(arr1, arr2)\n",
        "max_values = np.maximum(arr1, arr2)\n",
        "\n",
        "print(\"Giá trị nhỏ nhất từng phần tử:\", min_values)\n",
        "print(\"Giá trị lớn nhất từng phần tử:\", max_values)\n",
        "\n",
        "# Tìm giá trị nhỏ nhất và lớn nhất so với một số cố định\n",
        "min_value_with_number = np.minimum(arr1, 2)\n",
        "max_value_with_number = np.maximum(arr2, 2)\n",
        "\n",
        "print(\"Giá trị nhỏ nhất so với số 2:\", min_value_with_number)\n",
        "print(\"Giá trị lớn nhất so với số 2:\", max_value_with_number)"
      ]
    },
    {
      "cell_type": "markdown",
      "metadata": {
        "id": "Y2vlEdzE3T_V"
      },
      "source": [
        "## 9.3 argmax, argmin (*)"
      ]
    },
    {
      "cell_type": "markdown",
      "metadata": {
        "id": "iG2vu5bq3aUL"
      },
      "source": [
        "- argmax và argmin là các hàm giúp bạn tìm vị trí của phần tử lớn nhất và nhỏ nhất trong một mảng, tương ứng.\n",
        "- Hàm argmax và argmin thường xuyên được sử dụng trong Machine Learning vì chúng có tác dụng tìm ra các nhãn có xác suất là cao nhất."
      ]
    },
    {
      "cell_type": "code",
      "execution_count": null,
      "metadata": {
        "colab": {
          "base_uri": "https://localhost:8080/"
        },
        "id": "4pmRABtd4DMq",
        "outputId": "5655ded1-4e85-49fd-f754-21b46ee508e8"
      },
      "outputs": [
        {
          "name": "stdout",
          "output_type": "stream",
          "text": [
            "Vị trí của phần tử lớn nhất: 7\n",
            "Vị trí của phần tử nhỏ nhất: 5\n",
            "Vị trí của phần tử lớn nhất theo các dòng: [4 2]\n",
            "Vị trí của phần tử nhỏ nhất theo các cột: [1 0 0 0 1]\n"
          ]
        }
      ],
      "source": [
        "arr = np.array([[3, 1, 2, 1, 5],\n",
        "                [0, 2, 6, 5, 3]])\n",
        "\n",
        "index_of_max = np.argmax(arr)\n",
        "print(\"Vị trí của phần tử lớn nhất:\", index_of_max)\n",
        "\n",
        "index_of_min = np.argmin(arr)\n",
        "print(\"Vị trí của phần tử nhỏ nhất:\", index_of_min)\n",
        "\n",
        "# Tìm vị trí lớn nhất, nhỏ nhất theo các dòng\n",
        "print('Vị trí của phần tử lớn nhất theo các dòng:', np.argmax(arr, axis= 1))\n",
        "print('Vị trí của phần tử nhỏ nhất theo các cột:', np.argmin(arr, axis= 0))"
      ]
    },
    {
      "cell_type": "markdown",
      "metadata": {
        "id": "PlPRUd8W8Od2"
      },
      "source": [
        "## 9.4 Hàm argsort"
      ]
    },
    {
      "cell_type": "markdown",
      "metadata": {
        "id": "kgFI6QcS8WOW"
      },
      "source": [
        "- Hàm argsort là hàm tìm ra indices được sắp xếp theo số thứ tự tăng dần của một mảng hoặc một véc tơ."
      ]
    },
    {
      "cell_type": "code",
      "execution_count": null,
      "metadata": {
        "colab": {
          "base_uri": "https://localhost:8080/"
        },
        "id": "pJ8w_GfD9n_r",
        "outputId": "beb13454-5170-495a-c843-d8c931e8f020"
      },
      "outputs": [
        {
          "name": "stdout",
          "output_type": "stream",
          "text": [
            "Chỉ số của mảng đã sắp xếp: [1 3 6 0 9 2 4 8 7 5]\n",
            "Mảng đã sắp xếp: [1 1 2 3 3 4 5 5 6 9]\n"
          ]
        }
      ],
      "source": [
        "arr = np.array([3, 1, 4, 1, 5, 9, 2, 6, 5, 3])\n",
        "\n",
        "# Sắp xếp mảng và trả về các chỉ số đã sắp xếp\n",
        "sorted_indices = np.argsort(arr)\n",
        "print(\"Chỉ số của mảng đã sắp xếp:\", sorted_indices)\n",
        "\n",
        "# Lấy các phần tử từ mảng gốc theo thứ tự tăng dần\n",
        "sorted_arr = arr[sorted_indices]\n",
        "print(\"Mảng đã sắp xếp:\", sorted_arr)"
      ]
    },
    {
      "cell_type": "markdown",
      "metadata": {
        "id": "SdyDVCqmo6vF"
      },
      "source": [
        "## 9.5 Hàm count_nonzero"
      ]
    },
    {
      "cell_type": "markdown",
      "metadata": {
        "id": "Ytafb7aBpHi2"
      },
      "source": [
        "- Hàm numpy.count_nonzero() trong NumPy được sử dụng để đếm số lượng phần tử khác không trong mảng. Nó trả về số nguyên, là số lượng phần tử khác không trong mảng."
      ]
    },
    {
      "cell_type": "markdown",
      "metadata": {
        "id": "T07trYRPppO6"
      },
      "source": [
        "- Cú pháp của hàm count_nonzero: np.count_nonzero(a, axis=None)\n",
        "\n"
      ]
    },
    {
      "cell_type": "code",
      "execution_count": null,
      "metadata": {
        "colab": {
          "base_uri": "https://localhost:8080/"
        },
        "id": "r3e-HchmpS_R",
        "outputId": "a612f8d0-f022-4671-c4a8-0bb6030787c2"
      },
      "outputs": [
        {
          "name": "stdout",
          "output_type": "stream",
          "text": [
            "Số lượng phần tử khác không trong toàn bộ mảng: 4\n",
            "Số lượng phần tử khác không trên từng cột: [1 2 1]\n",
            "Số lượng phần tử khác không trên từng hàng: [1 2 1]\n"
          ]
        }
      ],
      "source": [
        "import numpy as np\n",
        "\n",
        "arr = np.array([[0, 1, 0],\n",
        "                [2, 0, 3],\n",
        "                [0, 4, 0]])\n",
        "\n",
        "# Đếm số lượng phần tử khác không trong toàn bộ mảng\n",
        "count_all = np.count_nonzero(arr)\n",
        "print(\"Số lượng phần tử khác không trong toàn bộ mảng:\", count_all)\n",
        "\n",
        "# Đếm số lượng phần tử khác không trên từng cột (trục 0)\n",
        "count_axis_0 = np.count_nonzero(arr, axis=0)\n",
        "print(\"Số lượng phần tử khác không trên từng cột:\", count_axis_0)\n",
        "\n",
        "# Đếm số lượng phần tử khác không trên từng hàng (trục 1)\n",
        "count_axis_1 = np.count_nonzero(arr, axis=1)\n",
        "print(\"Số lượng phần tử khác không trên từng hàng:\", count_axis_1)\n"
      ]
    },
    {
      "cell_type": "markdown",
      "metadata": {
        "id": "wq5CfB1ap5X9"
      },
      "source": [
        "## 9.6 Hàm medium()"
      ]
    },
    {
      "cell_type": "markdown",
      "metadata": {
        "id": "jmr7vCXkqGAN"
      },
      "source": [
        "- Hàm numpy.median() trả về giá trị trung vị của mảng, tức là giá trị nằm ở giữa của một tập hợp đã được sắp xếp. Nếu số phần tử trong mảng là số lẻ, giá trị trung vị chính là phần tử ở giữa; nếu số phần tử là số chẵn, giá trị trung vị là trung bình cộng của hai phần tử ở giữa."
      ]
    },
    {
      "cell_type": "code",
      "execution_count": null,
      "metadata": {
        "colab": {
          "base_uri": "https://localhost:8080/"
        },
        "id": "GKh22FKVqKUa",
        "outputId": "faf1690b-7c7d-4be8-e023-8e821baf4136"
      },
      "outputs": [
        {
          "name": "stdout",
          "output_type": "stream",
          "text": [
            "Mảng: [1 2 3 4 5]\n",
            "Giá trị trung vị của mảng lẻ: 3.0\n",
            "\n",
            "Mảng: [1 2 3 4 5 6]\n",
            "Giá trị trung vị của mảng chẵn: 3.5\n"
          ]
        }
      ],
      "source": [
        "arr_odd = np.array([1, 2, 3, 4, 5])\n",
        "arr_even = np.array([1, 2, 3, 4, 5, 6])\n",
        "\n",
        "median_odd = np.median(arr_odd)\n",
        "median_even = np.median(arr_even)\n",
        "\n",
        "print(\"Mảng:\", arr_odd)\n",
        "print(\"Giá trị trung vị của mảng lẻ:\", median_odd)\n",
        "\n",
        "print(\"\\nMảng:\", arr_even)\n",
        "print(\"Giá trị trung vị của mảng chẵn:\", median_even)"
      ]
    },
    {
      "cell_type": "markdown",
      "metadata": {
        "id": "W4AnOQ3vKcmF"
      },
      "source": [
        "## 9.7 Giữ nguyên shape"
      ]
    },
    {
      "cell_type": "markdown",
      "metadata": {
        "id": "aV8QC2rRKl2s"
      },
      "source": [
        "- Các phép biến đổi trên ma trận trên ta đều thấy làm giảm chiều của ma trận đi một. Ví dụ khi tính min theo các dòng của ma trận thì chiều cột sẽ bị tiêu giảm. numpy cung cấp cho chúng ta đối số keepdims để giữ nguyên số chiều như ma trận đầu tiên."
      ]
    },
    {
      "cell_type": "code",
      "execution_count": null,
      "metadata": {
        "colab": {
          "base_uri": "https://localhost:8080/"
        },
        "id": "lkhWYIP8KrbQ",
        "outputId": "a35186cc-9011-4b6a-c5da-64aa0d5a5c91"
      },
      "outputs": [
        {
          "name": "stdout",
          "output_type": "stream",
          "text": [
            "Giá trị nhỏ nhất theo hàng: [1 0]\n",
            "Giá trị nhỏ nhất theo hàng khi giữ nguyên chiều:\n",
            " [[1]\n",
            " [0]]\n"
          ]
        }
      ],
      "source": [
        "arr = np.array([[3, 1, 2, 1, 5],\n",
        "                [0, 2, 6, 5, 3]])\n",
        "\n",
        "print('Giá trị nhỏ nhất theo hàng:', np.min(arr, axis= 1))\n",
        "\n",
        "print('Giá trị nhỏ nhất theo hàng khi giữ nguyên chiều:\\n', np.min(arr, axis= 1, keepdims= True))"
      ]
    },
    {
      "cell_type": "markdown",
      "metadata": {
        "id": "Juk2xzFtNema"
      },
      "source": [
        "## 9.8 Gieo hạt và trộn lẫn dữ liệu trên numpy"
      ]
    },
    {
      "cell_type": "markdown",
      "metadata": {
        "id": "lClT6JPPNiUe"
      },
      "source": [
        "- np.random.seed() là một hàm trong thư viện NumPy của Python được sử dụng để thiết lập giá trị khởi tạo cho việc sinh số ngẫu nhiên. Khi bạn đặt một giá trị cụ thể cho hạt giống (seed), nó sẽ giúp đảm bảo rằng chuỗi số ngẫu nhiên sẽ được sinh ra theo cùng một cách mỗi khi bạn chạy mã."
      ]
    },
    {
      "cell_type": "code",
      "execution_count": null,
      "metadata": {
        "colab": {
          "base_uri": "https://localhost:8080/"
        },
        "id": "O1_iFfhSOezG",
        "outputId": "251626d7-6c0f-486f-c6a0-5021bc2d2a90"
      },
      "outputs": [
        {
          "name": "stdout",
          "output_type": "stream",
          "text": [
            "[38 38 46 46 13 24  3 54 18 47]\n",
            "[38 38 46 46 13 24  3 54 18 47]\n"
          ]
        }
      ],
      "source": [
        "np.random.seed (30)\n",
        "random_numbers_1 = np.random.randint(1, 100, 10)\n",
        "print(random_numbers_1)\n",
        "\n",
        "np.random.seed(30)\n",
        "random_numbers_2 = np.random.randint(1, 100, 10)\n",
        "print(random_numbers_2)\n",
        "\n",
        "#xóa lệnh seed đi là khác nhau"
      ]
    },
    {
      "cell_type": "markdown",
      "metadata": {
        "id": "rSrzYsLaSu8G"
      },
      "source": [
        "# 10. Đọc và save numpy từ file"
      ]
    },
    {
      "cell_type": "markdown",
      "metadata": {
        "id": "EWLq_TGWS9oU"
      },
      "source": [
        "- Chúng ta có thể lưu numpy dưới nhiều định dạng khác nhau như file npy và txt."
      ]
    },
    {
      "cell_type": "code",
      "execution_count": null,
      "metadata": {
        "colab": {
          "base_uri": "https://localhost:8080/"
        },
        "id": "DkXfBMwnTB0c",
        "outputId": "a15e1272-cb7a-4d03-8c3c-4066d3ddd927"
      },
      "outputs": [
        {
          "name": "stdout",
          "output_type": "stream",
          "text": [
            "[[-1.72596243  1.58509537  0.13429659]\n",
            " [-1.10685547  1.57822555  0.10749794]\n",
            " [-0.76404783 -0.77518851  1.38384717]]\n"
          ]
        }
      ],
      "source": [
        "import numpy as np\n",
        "\n",
        "# Khởi tạo một mảng ngẫu nhiên A\n",
        "A = np.random.randn(3, 3)\n",
        "print(A)"
      ]
    },
    {
      "cell_type": "markdown",
      "metadata": {
        "id": "Pm2v2rhYTJG-"
      },
      "source": [
        "- Save mảng A theo hàm np.save() và np.savetxt() có cú pháp:\n",
        "\n",
        "    - np.save(file, arr): Output là định dạng npy. Save được mọi tensor với số chiều tuỳ ý.\n",
        "\n",
        "  - np.savetxt(file, arr): Output là định dạng txt. Cách này ít phổ biến hơn vì ta chỉ save được mảng 1D và 2D.\n",
        "\n",
        "Trong các công thức trên thì file là đường link tới vị trí save và arr là mảng cần save."
      ]
    },
    {
      "cell_type": "markdown",
      "metadata": {
        "id": "pX93aASldGeP"
      },
      "source": [
        "- Bạn có thể lưu nó dưới dạng “filename.npy” với:"
      ]
    },
    {
      "cell_type": "code",
      "execution_count": null,
      "metadata": {
        "id": "YK6LEc9XYTj1"
      },
      "outputs": [],
      "source": [
        "# Lưu dưới dạng npy\n",
        "np.save('filename.npy', A)"
      ]
    },
    {
      "cell_type": "markdown",
      "metadata": {
        "id": "ISgrJ3grdLwD"
      },
      "source": [
        "- Bạn có thể sử dụng np.load()để xây dựng lại mảng của mình."
      ]
    },
    {
      "cell_type": "code",
      "execution_count": null,
      "metadata": {
        "colab": {
          "base_uri": "https://localhost:8080/"
        },
        "id": "YDPd3KKNdMvh",
        "outputId": "e2d8e586-ed01-4fa1-d37e-de1261e58f7c"
      },
      "outputs": [
        {
          "name": "stdout",
          "output_type": "stream",
          "text": [
            "[[-1.72596243  1.58509537  0.13429659]\n",
            " [-1.10685547  1.57822555  0.10749794]\n",
            " [-0.76404783 -0.77518851  1.38384717]]\n"
          ]
        }
      ],
      "source": [
        "b = np.load('filename.npy')\n",
        "print(b)"
      ]
    },
    {
      "cell_type": "markdown",
      "metadata": {
        "id": "xYUyp-ygc97V"
      },
      "source": [
        "- Bạn có thể lưu mảng NumPy dưới dạng tệp văn bản thuần túy như tệp .csv hoặc .txt có phần mở rộng np.savetxt."
      ]
    },
    {
      "cell_type": "code",
      "execution_count": null,
      "metadata": {
        "id": "s_qgow8Bdhde"
      },
      "outputs": [],
      "source": [
        "np.savetxt('new_file.csv', A)"
      ]
    },
    {
      "cell_type": "markdown",
      "metadata": {
        "id": "3gXEKNIudzD-"
      },
      "source": [
        "- Bạn có thể tải tệp văn bản đã lưu của mình một cách nhanh chóng và dễ dàng bằng cách sử dụng loadtxt():"
      ]
    },
    {
      "cell_type": "code",
      "execution_count": null,
      "metadata": {
        "colab": {
          "base_uri": "https://localhost:8080/"
        },
        "id": "-c5aPzwPd0hk",
        "outputId": "4d4327c5-3a7f-4c3d-9911-6302cf60f7c3"
      },
      "outputs": [
        {
          "name": "stdout",
          "output_type": "stream",
          "text": [
            "[[-1.72596243  1.58509537  0.13429659]\n",
            " [-1.10685547  1.57822555  0.10749794]\n",
            " [-0.76404783 -0.77518851  1.38384717]]\n"
          ]
        }
      ],
      "source": [
        "c = np.loadtxt('new_file.csv')\n",
        "print(c)"
      ]
    },
    {
      "cell_type": "markdown",
      "metadata": {
        "id": "KgWAMl-VX3eC"
      },
      "source": [
        "# 11. Tạo ma trận"
      ]
    },
    {
      "cell_type": "markdown",
      "metadata": {
        "id": "bKg8bZELldmc"
      },
      "source": [
        "## 11.1 Tạo ma trận"
      ]
    },
    {
      "cell_type": "markdown",
      "metadata": {
        "id": "XtaOi0WVX_Dt"
      },
      "source": [
        "- Bạn có thể chuyển danh sách danh sách Python để tạo mảng 2-D (hoặc “ma trận”) để biểu diễn chúng trong NumPy."
      ]
    },
    {
      "cell_type": "code",
      "execution_count": null,
      "metadata": {
        "colab": {
          "base_uri": "https://localhost:8080/"
        },
        "id": "gziS-zB-Yzhj",
        "outputId": "4994b8ba-357c-43aa-9ec7-b2a70a13b1b2"
      },
      "outputs": [
        {
          "name": "stdout",
          "output_type": "stream",
          "text": [
            "[[1 2]\n",
            " [3 4]\n",
            " [5 6]]\n"
          ]
        }
      ],
      "source": [
        "import numpy as np\n",
        "\n",
        "data = np.array([[1, 2], [3, 4], [5, 6]])\n",
        "print(data)"
      ]
    },
    {
      "cell_type": "markdown",
      "metadata": {
        "id": "p4twiQ-eWVsa"
      },
      "source": [
        "- Các thao tác lập chỉ mục và cắt lát rất hữu ích khi bạn thao tác với ma trận:"
      ]
    },
    {
      "cell_type": "code",
      "execution_count": null,
      "metadata": {
        "colab": {
          "base_uri": "https://localhost:8080/"
        },
        "id": "bcxLjualWbUg",
        "outputId": "54a0851e-2853-4232-a947-b43dcba0d3eb"
      },
      "outputs": [
        {
          "name": "stdout",
          "output_type": "stream",
          "text": [
            "2\n",
            "[[3 4]\n",
            " [5 6]]\n",
            "[1 3]\n"
          ]
        }
      ],
      "source": [
        "print(data[0, 1])\n",
        "print(data[1:3])\n",
        "print(data[0:2, 0])"
      ]
    },
    {
      "cell_type": "markdown",
      "metadata": {
        "id": "zheqEuSyW3D2"
      },
      "source": [
        "![np_matrix_indexing.png](data:image/png;base64,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)"
      ]
    },
    {
      "cell_type": "markdown",
      "metadata": {
        "id": "NF8AGNJJIF0z"
      },
      "source": [
        "- Bạn cũng có thể sử dụng ones(), zeros()và random()để tạo mảng 2D nếu bạn cung cấp cho chúng một bộ dữ liệu mô tả kích thước của ma trận:"
      ]
    },
    {
      "cell_type": "code",
      "execution_count": null,
      "metadata": {
        "colab": {
          "base_uri": "https://localhost:8080/"
        },
        "id": "LA8C1UINIH_1",
        "outputId": "18f47fe6-255f-4312-c035-f1f338066578"
      },
      "outputs": [
        {
          "name": "stdout",
          "output_type": "stream",
          "text": [
            "[[1. 1. 1.]\n",
            " [1. 1. 1.]]\n",
            "[[0. 0. 0. 0. 0. 0. 0.]\n",
            " [0. 0. 0. 0. 0. 0. 0.]\n",
            " [0. 0. 0. 0. 0. 0. 0.]\n",
            " [0. 0. 0. 0. 0. 0. 0.]]\n",
            "[[0.60892092 0.76789003 0.99764044]\n",
            " [0.72075202 0.07692996 0.90105611]]\n"
          ]
        }
      ],
      "source": [
        "print(np.ones((2, 3)))\n",
        "\n",
        "print(np.zeros((4, 7)))\n",
        "\n",
        "rng = np.random.default_rng()\n",
        "print(rng.random((2, 3)) )"
      ]
    },
    {
      "cell_type": "markdown",
      "metadata": {
        "id": "3u7o07eLljhZ"
      },
      "source": [
        "## 11.2 Tạo số ngẫu nhiên"
      ]
    },
    {
      "cell_type": "markdown",
      "metadata": {
        "id": "NOmQjVjNlQxD"
      },
      "source": [
        "- Việc sử dụng tạo số ngẫu nhiên là một phần quan trọng trong việc cấu hình và đánh giá nhiều thuật toán học số và máy học. Cho dù bạn cần khởi tạo ngẫu nhiên các trọng số trong mạng thần kinh nhân tạo, chia dữ liệu thành các tập hợp ngẫu nhiên hay xáo trộn ngẫu nhiên tập dữ liệu của mình.\n",
        "- Với Generator.integers, bạn có thể tạo các số nguyên ngẫu nhiên từ thấp (hãy nhớ rằng số này bao gồm NumPy) đến cao (độc quyền). Bạn có thể thiết lập endpoint=True để bao gồm số cao."
      ]
    },
    {
      "cell_type": "code",
      "execution_count": null,
      "metadata": {
        "colab": {
          "base_uri": "https://localhost:8080/"
        },
        "id": "R2Qxo4fzloky",
        "outputId": "37466a62-afaa-459d-eb80-dca953184800"
      },
      "outputs": [
        {
          "name": "stdout",
          "output_type": "stream",
          "text": [
            "[[[4380 6501 7878 2089 3035]\n",
            "  [4865 7187 9027  185 1765]\n",
            "  [  36 9111 3114  414 9800]\n",
            "  [6033 8100 9064   38 4347]]\n",
            "\n",
            " [[8824 2698 8651 5018 5064]\n",
            "  [6723 3261 3845 3633 3107]\n",
            "  [4106 1169 4866 7064 4610]\n",
            "  [ 241 5373 5659 9691 9715]]\n",
            "\n",
            " [[7088 8200 4513 4355 8136]\n",
            "  [4146 7986 6674 1064  614]\n",
            "  [3417 4268 5365 1242 1279]\n",
            "  [3540 6989 7960 3645 3856]]]\n"
          ]
        }
      ],
      "source": [
        "# Tạo mảng 3x4x5 số ngẫu nhiên trong khoảng từ 0 đến 10000\n",
        "print(rng.integers(10000, size=(3, 4, 5))) #khác với seed"
      ]
    },
    {
      "cell_type": "markdown",
      "metadata": {
        "id": "6MIeKt7MO6Ss"
      },
      "source": [
        "# 12. Các ma trận đặc biệt"
      ]
    },
    {
      "cell_type": "markdown",
      "metadata": {
        "id": "WFRUINUsO-rS"
      },
      "source": [
        "## 12.1 Ma trận đơn vị"
      ]
    },
    {
      "cell_type": "markdown",
      "metadata": {
        "id": "fcJBFnp7PJyI"
      },
      "source": [
        "- Ma trận đơn vị là một ma trận vuông có các phần tử trên đường chéo chính bằng 1 và các phần tử còn lại bằng 0. Đây là một ma trận rất đặc biệt vì tích của một ma trận khác với ma trận đơn vị sẽ bằng chính ma trận đó."
      ]
    },
    {
      "cell_type": "code",
      "execution_count": null,
      "metadata": {
        "colab": {
          "base_uri": "https://localhost:8080/"
        },
        "id": "GwScrPUiPaie",
        "outputId": "77676d38-11a5-4f0a-c85e-aa8b6319eaf5"
      },
      "outputs": [
        {
          "name": "stdout",
          "output_type": "stream",
          "text": [
            "[[1. 0. 0. 0. 0.]\n",
            " [0. 1. 0. 0. 0.]\n",
            " [0. 0. 1. 0. 0.]\n",
            " [0. 0. 0. 1. 0.]\n",
            " [0. 0. 0. 0. 1.]]\n"
          ]
        }
      ],
      "source": [
        "I = np.identity(5)\n",
        "print(I)"
      ]
    },
    {
      "cell_type": "markdown",
      "metadata": {
        "id": "q8gqzWxcPx-R"
      },
      "source": [
        "## 12.2 Ma trận 1"
      ]
    },
    {
      "cell_type": "markdown",
      "metadata": {
        "id": "E_lslDjLP787"
      },
      "source": [
        "- Ma trận 1 là ma trận gồm toàn những phần tử có giá trị là 1."
      ]
    },
    {
      "cell_type": "code",
      "execution_count": null,
      "metadata": {
        "colab": {
          "base_uri": "https://localhost:8080/"
        },
        "id": "u3CCgJRAP9Bm",
        "outputId": "68a6f1f0-002f-4ba4-abe1-1f3211d68ead"
      },
      "outputs": [
        {
          "name": "stdout",
          "output_type": "stream",
          "text": [
            "[[1. 1. 1.]\n",
            " [1. 1. 1.]\n",
            " [1. 1. 1.]]\n"
          ]
        }
      ],
      "source": [
        "A = np.ones((3, 3))\n",
        "print(A)"
      ]
    },
    {
      "cell_type": "markdown",
      "metadata": {
        "id": "_r4F-S2IQLhJ"
      },
      "source": [
        "- Chúng ta cũng có thể khởi tạo ma trận 1 có kích thước bằng với shape của một ma trận khác không qua câu lệnh np.ones_like()"
      ]
    },
    {
      "cell_type": "code",
      "execution_count": null,
      "metadata": {
        "colab": {
          "base_uri": "https://localhost:8080/"
        },
        "id": "sLgL4laqQMiu",
        "outputId": "14e3d3fe-ffeb-4bab-c789-6a33d2e7b1f3"
      },
      "outputs": [
        {
          "name": "stdout",
          "output_type": "stream",
          "text": [
            "[[1. 1. 1.]\n",
            " [1. 1. 1.]]\n"
          ]
        }
      ],
      "source": [
        "# Khởi tạo ma trận B ngẫu nhiên kích thước (2, 3)\n",
        "B = np.random.randn(2,3)\n",
        "# Khởi tạo ma trân 1 có kích thước bằng với (2, 3)\n",
        "A = np.ones_like(B)\n",
        "print(A)"
      ]
    },
    {
      "cell_type": "markdown",
      "metadata": {
        "id": "bmSH6ar2QnJn"
      },
      "source": [
        "## 12.3 Ma trận 0"
      ]
    },
    {
      "cell_type": "markdown",
      "metadata": {
        "id": "udnnH725QpGl"
      },
      "source": [
        "- Cũng tương tự như ma trận 1, ma trận 0 gồm toàn bộ các phần tử bằng 0."
      ]
    },
    {
      "cell_type": "code",
      "execution_count": null,
      "metadata": {
        "colab": {
          "base_uri": "https://localhost:8080/"
        },
        "id": "iy11MY_JQuUw",
        "outputId": "f31b5739-df56-4612-98bf-8c62b5a6f9fe"
      },
      "outputs": [
        {
          "data": {
            "text/plain": [
              "array([[0., 0., 0.],\n",
              "       [0., 0., 0.],\n",
              "       [0., 0., 0.]])"
            ]
          },
          "execution_count": 86,
          "metadata": {},
          "output_type": "execute_result"
        }
      ],
      "source": [
        "# Khởi tạo ma trận 0 kích thước (3, 3)\n",
        "np.zeros((3, 3))"
      ]
    },
    {
      "cell_type": "code",
      "execution_count": null,
      "metadata": {
        "colab": {
          "base_uri": "https://localhost:8080/"
        },
        "id": "lDnZGw7sQ6Mv",
        "outputId": "38c71627-383e-45b0-baef-2e99697e6134"
      },
      "outputs": [
        {
          "data": {
            "text/plain": [
              "array([[0., 0., 0.],\n",
              "       [0., 0., 0.]])"
            ]
          },
          "execution_count": 87,
          "metadata": {},
          "output_type": "execute_result"
        }
      ],
      "source": [
        "# Khởi tạo ma trận 0 có kích thước như ma trận B\n",
        "np.zeros_like(B)"
      ]
    },
    {
      "cell_type": "markdown",
      "metadata": {
        "id": "2dVtj41iRQkC"
      },
      "source": [
        "## 12.4 Ma trận đường chéo chính"
      ]
    },
    {
      "cell_type": "markdown",
      "metadata": {
        "id": "OpCmEVwhRbrC"
      },
      "source": [
        "- Ma trận đường chéo chính là ma trận vuông mà có các giá trị khác đường chéo chính đều bằng 0. Đường chéo chính ở đây được xác định là những điểm\n",
        " có chỉ số dòng và cột bằng nhau.\n",
        "- Để khởi tạo ma trận đường chéo chính chúng ta sử dụng câu lệnh np.diag() và khai báo véc tơ đường chéo chính."
      ]
    },
    {
      "cell_type": "code",
      "execution_count": null,
      "metadata": {
        "colab": {
          "base_uri": "https://localhost:8080/"
        },
        "id": "VQd6rgScRtsf",
        "outputId": "0235d9d5-8dad-4ced-e325-b3bf4c8eec1b"
      },
      "outputs": [
        {
          "data": {
            "text/plain": [
              "array([[1, 0, 0],\n",
              "       [0, 2, 0],\n",
              "       [0, 0, 3]])"
            ]
          },
          "execution_count": 88,
          "metadata": {},
          "output_type": "execute_result"
        }
      ],
      "source": [
        "np.diag(np.array([1, 2, 3]))"
      ]
    },
    {
      "cell_type": "markdown",
      "metadata": {
        "id": "lqHT_3_GSEp1"
      },
      "source": [
        "- Trong trường hợp np.diag() có đầu vào là một ma trận thì kết quả trả ra chính là đường chéo của ma trận đó (ma trận có thể không vuông)."
      ]
    },
    {
      "cell_type": "code",
      "execution_count": null,
      "metadata": {
        "colab": {
          "base_uri": "https://localhost:8080/"
        },
        "id": "vjHwGsb_SqMA",
        "outputId": "91c97754-f7a6-4d06-93f6-b342aee5f263"
      },
      "outputs": [
        {
          "data": {
            "text/plain": [
              "array([1, 5, 9])"
            ]
          },
          "execution_count": 89,
          "metadata": {},
          "output_type": "execute_result"
        }
      ],
      "source": [
        "A = np.array([[1, 2, 3],\n",
        "              [4, 5, 6],\n",
        "              [7, 8 ,9]])\n",
        "\n",
        "# Đường chéo chính của ma trận A\n",
        "np.diag(A)"
      ]
    },
    {
      "cell_type": "markdown",
      "metadata": {
        "id": "NkvDTY1o5D6p"
      },
      "source": [
        "# 13. Một số các phép toán với ma trận"
      ]
    },
    {
      "cell_type": "markdown",
      "metadata": {
        "id": "HTnev6J15eDg"
      },
      "source": [
        "## 13.1 Phép chuyển vị"
      ]
    },
    {
      "cell_type": "markdown",
      "metadata": {
        "id": "UP3qoUzz5gy0"
      },
      "source": [
        "Phép chuyển vị một ma trận kích thước M x N sẽ biến thành một ma trận mới kích thước N x M sao cho các dòng của ma trận ban đầu sẽ biến thành cột của ma trận chuyển vị."
      ]
    },
    {
      "cell_type": "code",
      "execution_count": null,
      "metadata": {
        "colab": {
          "base_uri": "https://localhost:8080/"
        },
        "id": "_nKdpr6J5rat",
        "outputId": "8db3039f-a467-43ae-b2a9-8669d8f2b531"
      },
      "outputs": [
        {
          "name": "stdout",
          "output_type": "stream",
          "text": [
            "Ma trận ban đầu:\n",
            " [[1 2 3]\n",
            " [4 5 6]\n",
            " [7 8 9]]\n",
            "Ma trận chuyển vị:\n",
            " [[1 4 7]\n",
            " [2 5 8]\n",
            " [3 6 9]]\n"
          ]
        }
      ],
      "source": [
        "import numpy as np\n",
        "\n",
        "arr = np.array([[1,2,3], [4,5,6], [7,8,9]])\n",
        "print('Ma trận ban đầu:\\n', arr)\n",
        "print('Ma trận chuyển vị:\\n', arr.T)"
      ]
    },
    {
      "cell_type": "markdown",
      "metadata": {
        "id": "tK3i3beW6JOq"
      },
      "source": [
        "## 13.2 Ma trận nghịch đảo"
      ]
    },
    {
      "cell_type": "markdown",
      "metadata": {
        "id": "_Qk5636T6OZg"
      },
      "source": [
        "- Ma trận nghịch đảo của ma trận vuông A khả nghịch là ma trận được kí hiệu là $$A^{-1}$$ thỏa mãn tích của chúng là ma trận đơn vị I\n"
      ]
    },
    {
      "cell_type": "code",
      "execution_count": null,
      "metadata": {
        "colab": {
          "base_uri": "https://localhost:8080/"
        },
        "id": "Ys4-Kg827crt",
        "outputId": "f276c2aa-2cd2-40a6-a47c-158a49136779"
      },
      "outputs": [
        {
          "name": "stdout",
          "output_type": "stream",
          "text": [
            "Ma trận ban đầu:\n",
            " [[1 2 3]\n",
            " [4 5 6]\n",
            " [7 8 9]]\n",
            "Ma trận nghịch đảo:\n",
            " [[-6.38888889e-01 -1.66666667e-01  3.05555556e-01]\n",
            " [-5.55555556e-02  4.20756436e-17  5.55555556e-02]\n",
            " [ 5.27777778e-01  1.66666667e-01 -1.94444444e-01]]\n"
          ]
        }
      ],
      "source": [
        "arr = np.array([[1,2,3], [4,5,6], [7,8,9]])\n",
        "print('Ma trận ban đầu:\\n', arr)\n",
        "print('Ma trận nghịch đảo:\\n', np.linalg.pinv(arr))"
      ]
    },
    {
      "cell_type": "markdown",
      "metadata": {
        "id": "Oug3sAKk8VBF"
      },
      "source": [
        "## 13.3 Hạng của ma trận"
      ]
    },
    {
      "cell_type": "markdown",
      "metadata": {
        "id": "TJ5r48GA8Ybk"
      },
      "source": [
        "- Hạng của ma trận là số lượng các chiều trong không gian véc tơ được sinh ra bởi các cột (hoặc dòng) của ma trận A. Nó chính bằng số lượng lớn nhất các cột (hoặc dòng) độc lập truyến tính của ma trận A"
      ]
    },
    {
      "cell_type": "code",
      "execution_count": null,
      "metadata": {
        "colab": {
          "base_uri": "https://localhost:8080/"
        },
        "id": "ql2XB3yi8r3G",
        "outputId": "27a0327a-ebde-4f5b-c566-03e9a3828a20"
      },
      "outputs": [
        {
          "name": "stdout",
          "output_type": "stream",
          "text": [
            "Ma trận ban đầu:\n",
            " [[1 2 3]\n",
            " [4 5 6]\n",
            " [7 8 9]]\n",
            "Hạng của ma trận: 2\n"
          ]
        }
      ],
      "source": [
        "arr = np.array([[1,2,3], [4,5,6], [7,8,9]])\n",
        "print('Ma trận ban đầu:\\n', arr)\n",
        "print('Hạng của ma trận:',np.linalg.matrix_rank(arr))"
      ]
    },
    {
      "cell_type": "markdown",
      "metadata": {
        "id": "r4Q9tCxD-bb4"
      },
      "source": [
        "## 13.4 Định thức của ma trận"
      ]
    },
    {
      "cell_type": "code",
      "execution_count": null,
      "metadata": {
        "colab": {
          "base_uri": "https://localhost:8080/"
        },
        "id": "n1ZcytpzCj6i",
        "outputId": "c0594ab2-5fb7-44b2-d9a9-0e7e4ba8885d"
      },
      "outputs": [
        {
          "name": "stdout",
          "output_type": "stream",
          "text": [
            "Ma trận ban đầu:\n",
            " [[1 2 4]\n",
            " [6 5 3]\n",
            " [7 8 9]]\n",
            "det(arr) =  7.000000000000001\n"
          ]
        }
      ],
      "source": [
        "arr = np.array([[1,2,4], [6,5,3], [7,8,9]])\n",
        "print('Ma trận ban đầu:\\n', arr)\n",
        "print('det(arr) = ', np.linalg.det(arr))"
      ]
    },
    {
      "cell_type": "markdown",
      "metadata": {
        "id": "8LmEC8wdHq33"
      },
      "source": [
        "#13.5 Phép cộng trừ và nhân ma trận"
      ]
    },
    {
      "cell_type": "markdown",
      "metadata": {
        "id": "6WBY26XuHvz-"
      },
      "source": [
        "### 13.5.1 Phép cộng, trừ ma trận"
      ]
    },
    {
      "cell_type": "code",
      "execution_count": null,
      "metadata": {
        "colab": {
          "base_uri": "https://localhost:8080/"
        },
        "id": "gCBSAtHsH-Iq",
        "outputId": "405cefaa-c8ad-4f5b-8959-82c80a943054"
      },
      "outputs": [
        {
          "name": "stdout",
          "output_type": "stream",
          "text": [
            "A + B =\n",
            " [[ 1  7  6]\n",
            " [ 6  6  3]\n",
            " [ 8 12 15]]\n",
            "A - B =\n",
            " [[ 1  1 -2]\n",
            " [ 0 -2 -1]\n",
            " [ 0  0 -1]]\n"
          ]
        }
      ],
      "source": [
        "import numpy as np\n",
        "A = np.array([[1, 4, 2],\n",
        "              [3, 2, 1],\n",
        "              [4, 6, 7]])\n",
        "\n",
        "B = np.array([[0, 3, 4],\n",
        "              [3, 4, 2],\n",
        "              [4, 6, 8]])\n",
        "\n",
        "print('A + B =\\n', A + B)\n",
        "print('A - B =\\n', A - B)"
      ]
    },
    {
      "cell_type": "markdown",
      "metadata": {
        "id": "LJ3uUXXZIdWS"
      },
      "source": [
        "### 13.5.2 Phép nhân ma trận"
      ]
    },
    {
      "cell_type": "markdown",
      "metadata": {
        "id": "xApCXhPAIn1C"
      },
      "source": [
        "- Trên numpy phép nhân này được thực hiện bằng A.dot(B) hoặc np.dot(A, B)."
      ]
    },
    {
      "cell_type": "code",
      "execution_count": null,
      "metadata": {
        "colab": {
          "base_uri": "https://localhost:8080/"
        },
        "id": "ELO9GgOsIgfA",
        "outputId": "1163b99f-8b04-4c91-b457-07417c496108"
      },
      "outputs": [
        {
          "name": "stdout",
          "output_type": "stream",
          "text": [
            "[[20 31]\n",
            " [10 23]] \n",
            "\n",
            "[[20 31]\n",
            " [10 23]] \n",
            "\n",
            "[[20 31]\n",
            " [10 23]] \n",
            "\n"
          ]
        }
      ],
      "source": [
        "A = np.array([[1, 4, 2],\n",
        "              [3, 2, 1]])\n",
        "\n",
        "B = np.array([[0, 3],\n",
        "              [3, 4],\n",
        "              [4, 6]])\n",
        "\n",
        "print(np.dot(A, B), '\\n')\n",
        "# Hoặc\n",
        "print(A.dot(B), '\\n')\n",
        "# Hoặc\n",
        "print(A@B, '\\n')"
      ]
    },
    {
      "cell_type": "markdown",
      "metadata": {
        "id": "ec5AISdPqXIr"
      },
      "source": [
        "### 13.5.3 Tích Hadamard giữa 2 ma trận"
      ]
    },
    {
      "cell_type": "markdown",
      "metadata": {
        "id": "50S2qaBXqeA_"
      },
      "source": [
        "- Tích Hadamard giữa hai ma trận A và B có cùng kích thước là một ma trận có cùng kích thước với A và B. Khi đó mỗi một phần tử của ma trận bằng tích của các phần tử ở cùng vị trí."
      ]
    },
    {
      "cell_type": "code",
      "execution_count": null,
      "metadata": {
        "colab": {
          "base_uri": "https://localhost:8080/"
        },
        "id": "LU6BtqFqqn7b",
        "outputId": "84d32e62-4a64-4256-e8d5-22451f0d3bbc"
      },
      "outputs": [
        {
          "name": "stdout",
          "output_type": "stream",
          "text": [
            "Tích Hadamard giữa A và B:\n",
            " [[13 28 45]\n",
            " [28 40 54]]\n"
          ]
        }
      ],
      "source": [
        "A = np.array([[1,2,3], [4,5,6]])\n",
        "B = np.array([[13,14,15], [7,8,9]])\n",
        "\n",
        "print('Tích Hadamard giữa A và B:\\n',A * B)"
      ]
    },
    {
      "cell_type": "markdown",
      "metadata": {
        "id": "1WrWk50vr7Sy"
      },
      "source": [
        "### 13.5.4 Nhân ma trận với 1 số"
      ]
    },
    {
      "cell_type": "code",
      "execution_count": null,
      "metadata": {
        "colab": {
          "base_uri": "https://localhost:8080/"
        },
        "id": "gOBe5GbMr_MH",
        "outputId": "0afbe591-f319-405c-b1ab-489b5c62fb2a"
      },
      "outputs": [
        {
          "name": "stdout",
          "output_type": "stream",
          "text": [
            "A * 5 = \n",
            " [[ 5 10 15 25]\n",
            " [20 30 35 40]]\n"
          ]
        }
      ],
      "source": [
        "A = np.array([[1, 2, 3, 5], [4, 6, 7, 8]])\n",
        "\n",
        "print('A * 5 = \\n', A * 5)"
      ]
    }
  ],
  "metadata": {
    "colab": {
      "provenance": [],
      "include_colab_link": true
    },
    "kernelspec": {
      "display_name": "Python 3",
      "name": "python3"
    },
    "language_info": {
      "name": "python"
    }
  },
  "nbformat": 4,
  "nbformat_minor": 0
}