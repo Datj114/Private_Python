{
  "nbformat": 4,
  "nbformat_minor": 0,
  "metadata": {
    "colab": {
      "provenance": []
    },
    "kernelspec": {
      "name": "python3",
      "display_name": "Python 3"
    },
    "language_info": {
      "name": "python"
    }
  },
  "cells": [
    {
      "cell_type": "code",
      "source": [
        "#bai 1\n",
        "import math\n",
        "a,b,c,d,e,f=map(int,input().split())\n",
        "if(math.sqrt(a**2+b**2)+math.sqrt(c**2+d**2)>math.sqrt(e**2+f**2)):\n",
        "  print(\"TAM GIAC\")\n",
        "else:\n",
        "  print(\"KHONG LA TAM GIAC\")"
      ],
      "metadata": {
        "colab": {
          "base_uri": "https://localhost:8080/"
        },
        "id": "_P7aGgW-F4fT",
        "outputId": "ba29c262-a01e-44f3-b5ce-9a6161d244b8"
      },
      "execution_count": null,
      "outputs": [
        {
          "output_type": "stream",
          "name": "stdout",
          "text": [
            "1 2 3 4 1 4\n",
            "TAM GIAC\n"
          ]
        }
      ]
    },
    {
      "cell_type": "code",
      "execution_count": 5,
      "metadata": {
        "colab": {
          "base_uri": "https://localhost:8080/"
        },
        "id": "cl0zpBfb7fRI",
        "outputId": "49f5d576-824f-45be-8125-7791e0648925"
      },
      "outputs": [
        {
          "output_type": "stream",
          "name": "stdout",
          "text": [
            "n=2\n",
            "m=3\n",
            "123456\n",
            "123654\n",
            "234567\n",
            "234765\n"
          ]
        }
      ],
      "source": [
        "#bai 2\n",
        "n=int(input(\"n=\"))\n",
        "m=int(input(\"m=\"))\n",
        "for x in range(n):\n",
        "  a=int(input())\n",
        "  a=str(a)\n",
        "  digital_reversed=a[:-m]+a[-m:][::-1]\n",
        "  print(digital_reversed)\n"
      ]
    },
    {
      "cell_type": "code",
      "source": [
        "#bai3\n",
        "n =int(input(\"n=\"))\n",
        "for i in range(1,n+1):\n",
        "  st=input(\"ten\")\n",
        "  a=int(input(\"diem1= \"))\n",
        "  b=int(input(\"diem2= \"))\n",
        "  if(a+b>190):\n",
        "    c=\"xuat sac\"\n",
        "  elif(150<=a+b<190):\n",
        "    c=\"gioi\"\n",
        "  elif(100<=a+b<150):\n",
        "    c=\"kha\"\n",
        "  else:\n",
        "    c=\"yeu\"\n",
        "  print(i,st,c)"
      ],
      "metadata": {
        "colab": {
          "base_uri": "https://localhost:8080/"
        },
        "id": "1ay9CNhDDS2U",
        "outputId": "7f17f129-5058-458d-f9e4-19272cb32149"
      },
      "execution_count": null,
      "outputs": [
        {
          "output_type": "stream",
          "name": "stdout",
          "text": [
            "n=2\n",
            "tendat\n",
            "diem1= 60\n",
            "diem2= 140\n",
            "1 dat xuat sac\n",
            "tentien\n",
            "diem1= 1\n",
            "diem2= 1\n",
            "2 tien yeu\n"
          ]
        }
      ]
    },
    {
      "cell_type": "code",
      "source": [
        "#bai 4\n",
        "x=int(input(\"nhap gia tri \"))\n",
        "gia=1\n",
        "while x>=gia:\n",
        "  x-=gia\n",
        "  gia=gia*10+1\n",
        "if x==0:\n",
        "  print(\"yes\")\n",
        "else:\n",
        "  print(\"no\")"
      ],
      "metadata": {
        "colab": {
          "base_uri": "https://localhost:8080/"
        },
        "id": "3bsX_Ssk8aki",
        "outputId": "3926c92d-c2d8-4ccd-b011-f10d70dc20ea"
      },
      "execution_count": 9,
      "outputs": [
        {
          "output_type": "stream",
          "name": "stdout",
          "text": [
            "nhap gia tri 12\n",
            "yes\n"
          ]
        }
      ]
    },
    {
      "cell_type": "code",
      "source": [
        "#Hàm exec():\n",
        "\n",
        "# exec() là một hàm có sẵn trong Python được sử dụng để thực thi mã Python được tạo động, được biểu diễn dưới dạng chuỗi hoặc mã đối tượng.\n",
        "# Nó có thể nhận một chuỗi chứa các câu lệnh Python và thực thi chúng.\n",
        "# Thường được sử dụng để thực hiện mã động hoặc chạy các đoạn mã được tạo động.\n",
        "code = 'print(\"Xin chào, thế giới!\")'\n",
        "exec(code)\n"
      ],
      "metadata": {
        "colab": {
          "base_uri": "https://localhost:8080/"
        },
        "id": "xTmmU0Hs_BKY",
        "outputId": "dc3d0a17-0b7a-4230-e588-4bb92a008945"
      },
      "execution_count": 3,
      "outputs": [
        {
          "output_type": "stream",
          "name": "stdout",
          "text": [
            "Xin chào, thế giới!\n"
          ]
        }
      ]
    },
    {
      "cell_type": "markdown",
      "source": [
        "Dĩ nhiên, để mình giải thích bằng tiếng Việt cho bạn:\n",
        "\n",
        "1. **Hàm `exec()`:**\n",
        "   - `exec()` là một hàm có sẵn trong Python được sử dụng để thực thi mã Python được tạo động, được biểu diễn dưới dạng chuỗi hoặc mã đối tượng.\n",
        "   - Nó có thể nhận một chuỗi chứa các câu lệnh Python và thực thi chúng.\n",
        "   - Thường được sử dụng để thực hiện mã động hoặc chạy các đoạn mã được tạo động.\n",
        "   - Ví dụ:\n",
        "     ```python\n",
        "     code = 'print(\"Xin chào, thế giới!\")'\n",
        "     exec(code)\n",
        "     ```\n",
        "\n",
        "2. **Hàm `eval()`:**\n",
        "   - `eval()` là một hàm có sẵn dùng để đánh giá một biểu thức Python được biểu diễn dưới dạng chuỗi.\n",
        "   - Nó phân tích biểu thức và thực thi nó.\n",
        "   - Thường được sử dụng để đánh giá các biểu thức toán học hoặc biểu thức Python khác động.\n",
        "   - Ví dụ:\n",
        "     ```python\n",
        "     bieu_thuc = '2 + 3 * 5'\n",
        "     ket_qua = eval(bieu_thuc)\n",
        "     print(ket_qua)  # Kết quả: 17\n",
        "     ```\n",
        "\n",
        "3. **Hằng `Ellipsis`:**\n",
        "   - `Ellipsis` không phải là một hàm mà là đối tượng đặc biệt (`...`).\n",
        "   - Thường được sử dụng như một placeholder trong cắt và một số tính toán cụ thể.\n",
        "   - Ví dụ:\n",
        "     ```python\n",
        "     danh_sach = [1, 2, 3, 4, 5]\n",
        "     print(danh_sach[2:...])  # Kết quả: [3, 4, 5]\n",
        "     ```\n",
        "\n",
        "Những hàm này phục vụ mục đích khác nhau:\n",
        "- `exec()` dùng để thực hiện mã được tạo động.\n",
        "- `eval()` dùng để đánh giá các biểu thức.\n",
        "- `Ellipsis` là một hằng số đặc biệt được sử dụng như một chỗ giữ chỗ."
      ],
      "metadata": {
        "id": "FAXjTWMZD4uJ"
      }
    }
  ]
}