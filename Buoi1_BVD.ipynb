{
  "nbformat": 4,
  "nbformat_minor": 0,
  "metadata": {
    "colab": {
      "provenance": [],
      "toc_visible": true
    },
    "kernelspec": {
      "name": "python3",
      "display_name": "Python 3"
    },
    "language_info": {
      "name": "python"
    }
  },
  "cells": [
    {
      "cell_type": "markdown",
      "source": [
        "# Buổi 1\n"
      ],
      "metadata": {
        "id": "absq0Q-96Shb"
      }
    },
    {
      "cell_type": "markdown",
      "source": [
        "## 1. Python có thể làm gì?\n",
        "-Khoa học dữ liệu và machine learning\n",
        "\n",
        "-Xử lí ngôn ngữ tự nhiên\n",
        "\n",
        "\n",
        "-Game và đồ họa 3D\n",
        "\n",
        "-Trí tuệ nhân tạo\n",
        "\n",
        "\n",
        "-Phát triển ứng dụng web, di động\n",
        "\n"
      ],
      "metadata": {
        "id": "7MYeuvez1pjT"
      }
    },
    {
      "cell_type": "markdown",
      "source": [
        "##  2.Hãy so sánh đặc điểm của Python với ngôn ngữ C++\n",
        "Python và C++ là hai ngôn ngữ lập trình với các đặc điểm và mục tiêu sử dụng khác nhau. Dưới đây là một số so sánh giữa chúng:\n",
        "\n",
        "1. **Cú pháp và Độ dễ đọc**:\n",
        "   - Python:  cú pháp đơn giản và dễ đọc, với việc sử dụng các khoảng trắng để định rõ các khối mã (không dấu ngoặc nhọn).\n",
        "   - C++: C++ có cú pháp phức tạp hơn, đòi hỏi dấu chấm phẩy kết thúc câu lệnh và cặp dấu ngoặc nhọn định rõ khối mã.\n",
        "2. **Hiệu năng**:\n",
        "   - Python: Python thường chậm hơn so với C++ vì nó là một ngôn ngữ thông dịch và có quản lý bộ nhớ tự động. Điều này làm cho Python thích hợp cho các ứng dụng có thời gian chạy không cố định hoặc không đòi hỏi hiệu năng cực cao.\n",
        "   - C++: C++ là một ngôn ngữ biên dịch và cho phép kiểm soát chặt chẽ hơn về việc quản lý bộ nhớ. Vì vậy, C++ thường có hiệu năng cao hơn và thích hợp cho ứng dụng yêu cầu xử lý nhanh hoặc game đòi hỏi tốc độ.\n",
        "\n",
        "3. **Kiến thức lập trình**:\n",
        "   - Python: Python dễ học và thích hợp cho người mới học lập trình. Người dùng có thể tập trung vào việc giải quyết vấn đề mà không cần quá nhiều kiến thức về cấu trúc dữ liệu hoặc quản lý bộ nhớ.\n",
        "   - C++: C++ yêu cầu kiến thức sâu về cấu trúc dữ liệu và quản lý bộ nhớ. Nó thích hợp cho người có kinh nghiệm và yêu cầu kiến thức kỹ thuật cao hơn.\n",
        "\n",
        "4. **Ứng dụng**:\n",
        "   - Python: Python thường được sử dụng cho phát triển web, phân tích dữ liệu, trí tuệ nhân tạo, và các ứng dụng đòi hỏi phát triển nhanh và hiệu quả.\n",
        "   - C++: C++ thích hợp cho phát triển hệ thống nhúng, game, phần mềm đòi hỏi hiệu năng cao, và các ứng dụng cần kiểm soát bộ nhớ và tài nguyên cụ thể.\n",
        "\n",
        "5. **Thư viện và Frameworks**:\n",
        "   - Python: Python có nhiều thư viện và frameworks phong phú như Django (web), NumPy (khoa học dữ liệu), và TensorFlow (máy học).\n",
        "   - C++: C++ cũng có các thư viện và frameworks như Qt (giao diện người dùng) và STL (thư viện chuẩn của C++).\n",
        "\n",
        "Kết luận, sự lựa chọn giữa Python và C++ phụ thuộc vào yêu cầu cụ thể của dự án. Python thích hợp cho phát triển nhanh và ứng dụng không đòi hỏi hiệu năng cao, trong khi C++ phù h"
      ],
      "metadata": {
        "id": "NkAomrOu1ut5"
      }
    },
    {
      "cell_type": "markdown",
      "source": [
        "## Câu 3: Python là ngôn ngữ biên dịch hay thông dịch? Vì sao?\n",
        "Python là ngôn ngữ thông dịch (interpreted language).\n",
        "\n",
        "Ngôn ngữ thông dịch hoạt động bằng cách đọc và thực thi code ngay lập tức từng dòng một, mà không cần qua bước biên dịch thành mã máy như các ngôn ngữ biên dịch. Python sử dụng trình thông dịch (interpreter) để đọc code và chạy chúng mà không tạo ra file thực thi riêng biệt.\n",
        "\n",
        "Lý do Python được chọn là một ngôn ngữ thông dịch bao gồm tính đơn giản và dễ sử dụng. Việc không cần biên dịch code trước khi chạy giúp tiết kiệm thời gian phát triển, cho phép người lập trình thử nghiệm và chỉnh sửa code một cách nhanh chóng. Tuy nhiên, điều này có thể dẫn đến hiệu năng kém hơn so với các ngôn ngữ biên dịch."
      ],
      "metadata": {
        "id": "pwcXBMQI3pZK"
      }
    },
    {
      "cell_type": "markdown",
      "source": [
        "# Buổi2\n"
      ],
      "metadata": {
        "id": "GFQnBl994L4k"
      }
    },
    {
      "cell_type": "markdown",
      "source": [
        "### Khai báo biến:\n",
        "\n",
        "\n",
        "\n",
        "Để khai báo một biến, bạn chỉ cần đặt tên biến và gán giá trị cho nó bằng dấu =. Python sẽ tự động xác định kiểu dữ liệu của biến."
      ],
      "metadata": {
        "id": "uGqZy3Ja50Qi"
      }
    },
    {
      "cell_type": "code",
      "source": [
        "a=5\n",
        "b=1.7\n",
        "str= \"hello men\""
      ],
      "metadata": {
        "id": "BOPFDVDi57Ew"
      },
      "execution_count": null,
      "outputs": []
    },
    {
      "cell_type": "markdown",
      "source": [
        "### Toán tử\n",
        "Dưới đây là một số toán tử cơ bản trong Python và mô tả về chúng:\n",
        "\n",
        "#### 1. **Toán tử số học:**\n",
        "\n",
        "    - `+` (Cộng): Thực hiện phép cộng hai giá trị.\n",
        "    - `-` (Trừ): Thực hiện phép trừ hai giá trị.\n",
        "    - `*` (Nhân): Thực hiện phép nhân hai giá trị.\n",
        "    - `/` (Chia): Thực hiện phép chia hai giá trị.\n",
        "    - `%` (Chia lấy dư): Trả về phần dư của phép chia.\n",
        "    - `**` (Lũy thừa): Thực hiện phép lũy thừa.\n",
        "\n",
        "####2. **Toán tử so sánh:**\n",
        "\n",
        "    - `==` (Bằng): Kiểm tra xem hai giá trị có bằng nhau hay không.\n",
        "    - `!=` (Không bằng): Kiểm tra xem hai giá trị có khác nhau hay không.\n",
        "    - `<` (Nhỏ hơn): Kiểm tra xem giá trị bên trái có nhỏ hơn giá trị bên phải hay không.\n",
        "    - `>` (Lớn hơn): Kiểm tra xem giá trị bên trái có lớn hơn giá trị bên phải hay không.\n",
        "    - `<=` (Nhỏ hơn hoặc bằng): Kiểm tra xem giá trị bên trái có nhỏ hơn hoặc bằng giá trị bên phải hay không.\n",
        "    - `>=` (Lớn hơn hoặc bằng): Kiểm tra xem giá trị bên trái có lớn hơn hoặc bằng giá trị bên phải hay không.\n",
        "\n",
        "####3. **Toán tử gán:**\n",
        "\n",
        "    - `=` (Gán): Gán giá trị của biểu thức bên phải cho biến bên trái.\n",
        "    - `+=` (Cộng và gán): Cộng giá trị bên phải vào giá trị của biến và gán lại cho biến.\n",
        "    - `-=` (Trừ và gán): Trừ giá trị bên phải khỏi giá trị của biến và gán lại cho biến.\n",
        "    - `*=` (Nhân và gán): Nhân giá trị bên phải với giá trị của biến và gán lại cho biến.\n",
        "    - `/=` (Chia và gán): Chia giá trị của biến cho giá trị bên phải và gán lại cho biến.\n",
        "\n",
        "####4. **Toán tử logic:**\n",
        "\n",
        "    - `and` (Và): Trả về True nếu cả hai biểu thức đều là True.\n",
        "    - `or` (Hoặc): Trả về True nếu ít nhất một trong hai biểu thức là True.\n",
        "    - `not` (Không): Đảo ngược giá trị của biểu thức, True thành False và ngược lại.\n",
        "\n",
        "####5. **Toán tử khác:**\n",
        "\n",
        "    - `in`: Kiểm tra xem một giá trị có trong một chuỗi, danh sách, hoặc tuple hay không.\n",
        "    - `is`: Kiểm tra xem hai biến có cùng trỏ đến cùng một đối tượng hay không.\n",
        "    - `not in`: Kiểm tra xem một giá trị không có trong một chuỗi, danh sách, hoặc tuple hay không.\n",
        "    - `is not`: Kiểm tra xem hai biến không cùng trỏ đến cùng một đối tượng hay không.\n",
        "\n"
      ],
      "metadata": {
        "id": "nEfuaQMO7OyJ"
      }
    },
    {
      "cell_type": "code",
      "source": [
        "a=3\n",
        "b=4\n",
        "c=5.6\n",
        "print(\"a+b= \", a+b)\n",
        "print(\"a//b= \", a//b)\n",
        "print(\"a/b= \", a/b)\n",
        "print(a==b)\n",
        "print(a==3 and b == 3)"
      ],
      "metadata": {
        "colab": {
          "base_uri": "https://localhost:8080/"
        },
        "id": "lcKPW_JR7XMf",
        "outputId": "594d7568-beec-4745-8c79-3aedc9917686"
      },
      "execution_count": null,
      "outputs": [
        {
          "output_type": "stream",
          "name": "stdout",
          "text": [
            "a+b=  7\n",
            "a//b=  0\n",
            "a/b=  0.75\n",
            "False\n",
            "False\n"
          ]
        }
      ]
    },
    {
      "cell_type": "markdown",
      "source": [
        "### Các kiểu dữ liệu\n",
        "Kiểu int: Kiểu số nguyên (không có chứa dấu chấm thập phân), có thể lưu các số nguyên âm và dương. ...\n",
        "\n",
        "\n",
        "Kiểu float: Kiểu số thực (có chứa dấu chấm thập phân), ...\n",
        "\n",
        "\n",
        "Kiểu complex: Kiểu số phức, ...\n",
        "\n",
        "\n",
        "Kiểu str: Kiểu chuỗi, để trong nháy đôi hoặc nháy đơn. ...\n",
        "\n",
        "\n",
        "Kiểu bool: Kiểu luận lý, để lưu True hoặc False.\n"
      ],
      "metadata": {
        "id": "oC3JlWUQ9GNM"
      }
    }
  ]
}