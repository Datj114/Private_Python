{
  "nbformat": 4,
  "nbformat_minor": 0,
  "metadata": {
    "colab": {
      "provenance": [],
      "toc_visible": true
    },
    "kernelspec": {
      "name": "python3",
      "display_name": "Python 3"
    },
    "language_info": {
      "name": "python"
    }
  },
  "cells": [
    {
      "cell_type": "code",
      "source": [
        "#bai1\n",
        "sv_b1=set(map(int,input().split()))\n",
        "sv_b2=set(map(int,input().split()))\n",
        "sv=sv_b1 & sv_b2\n",
        "if sv:\n",
        "    print(\"sv dang ky ca 2 la\",sv)\n",
        "else:\n",
        "    print(\"ko co sv dky ca hai\")\n",
        "print(\"danh sach tong hop\",sv_b1 | sv_b2)\n",
        "print(\"sv dang ky tại bàn 1 ko dky bàn 2\",sv_b1 - sv_b2)\n",
        "print(\"sv dang ky duy nhat 1 bàn\",(sv_b1 | sv_b2) -(sv_b1 & sv_b2) )"
      ],
      "metadata": {
        "colab": {
          "base_uri": "https://localhost:8080/"
        },
        "id": "CD85oXEK4K6y",
        "outputId": "c75b5ad9-e47e-4c5d-bb31-399d18da3863"
      },
      "execution_count": 1,
      "outputs": [
        {
          "output_type": "stream",
          "name": "stdout",
          "text": [
            "1 2 3 4 5 \n",
            "3 4 5 6 7 \n",
            "sv dang ky ca 2 la {3, 4, 5}\n",
            "danh sach tong hop {1, 2, 3, 4, 5, 6, 7}\n",
            "sv dang ky tại bàn 1 ko dky bàn 2 {1, 2}\n",
            "sv dang ky duy nhat 1 bàn {1, 2, 6, 7}\n"
          ]
        }
      ]
    },
    {
      "cell_type": "code",
      "source": [
        "#bai2\n",
        "n=int(input())\n",
        "a=set(map(int,input().split()))\n",
        "while len(a) != n:\n",
        "\n",
        "    a=set(map(int,input(\"yêu cầu nhập lại\").split()))\n",
        "b=int(input())\n",
        "sorted(a,reverse=True)\n",
        "setc=set()\n",
        "for x in a:\n",
        "     if sum(setc)+ x <=b :\n",
        "          setc.add(x)\n",
        "print(setc)"
      ],
      "metadata": {
        "colab": {
          "base_uri": "https://localhost:8080/"
        },
        "id": "i2B1k8Hq4NQh",
        "outputId": "4b4f650e-7991-4610-d37c-d4aa635ccf2a"
      },
      "execution_count": 2,
      "outputs": [
        {
          "output_type": "stream",
          "name": "stdout",
          "text": [
            "3\n",
            "2 3 4 \n",
            "5\n",
            "{2, 3}\n"
          ]
        }
      ]
    },
    {
      "cell_type": "code",
      "source": [
        "#bai3\n",
        "T=(input())\n",
        "a=(T.split())\n",
        "max=0\n",
        "for i in a:\n",
        "    x= a.count(i)\n",
        "    if x>max:\n",
        "        max=x\n",
        "b=[]\n",
        "for i in a:\n",
        "    if max == a.count(i) and (i,max) not in b :\n",
        "        b.append((i,max))\n",
        "c=tuple(b)\n",
        "print(c)"
      ],
      "metadata": {
        "id": "IWJHHcmn4Vk_"
      },
      "execution_count": null,
      "outputs": []
    },
    {
      "cell_type": "code",
      "source": [
        "#bai4\n",
        "a=input().split()\n",
        "b=tuple(a)\n",
        "print(b)\n",
        "count=0\n",
        "for x in b:\n",
        "    if x.isdigit():\n",
        "        count+=1\n",
        "print(count)\n"
      ],
      "metadata": {
        "id": "pvdVyFIa4YoP"
      },
      "execution_count": null,
      "outputs": []
    },
    {
      "cell_type": "code",
      "source": [
        "#bai5\n",
        "s=set(map(int,input().split()))\n",
        "if 11 not in s:\n",
        "    s.add(int(11))\n",
        "print(s)\n",
        "a=list(s)\n",
        "b=[]\n",
        "for i in range(len(a)):\n",
        "    for j in range(i+1,len(a)):\n",
        "        if a[i]+a[j] == 11:\n",
        "            b.append((a[i],a[j]))\n",
        "b=tuple(b)\n",
        "print(sum(sum(x) for x in b))"
      ],
      "metadata": {
        "id": "Et1EGFjo4acH"
      },
      "execution_count": null,
      "outputs": []
    },
    {
      "cell_type": "code",
      "source": [
        "#bai6\n",
        "dictionary_students={\n",
        "    '2022604721':1.3,\n",
        "    '2022604722':2.5,\n",
        "    '2022604723':3.5,\n",
        "    '2022604724':4\n",
        "}\n",
        "scores=sum(1 for score in dictionary_students.values() if 2.5<=score<=3.5)\n",
        "print(\"so sv diem tong cao\",scores)\n",
        "dictionary_students['2022604725']=3.4\n",
        "print(dictionary_students)\n",
        "# key_delete=[]\n",
        "# for key,score in dictionary_students.items():\n",
        "#      if score<2:\n",
        "#         key_delete.append(key)\n",
        "key_delete=[key for key,score in dictionary_students.items() if score < 2]\n",
        "for key in key_delete :\n",
        "    dictionary_students.pop(key)\n",
        "print(dictionary_students)\n",
        "\n"
      ],
      "metadata": {
        "id": "nWjKc1fk3t5s"
      },
      "execution_count": null,
      "outputs": []
    },
    {
      "cell_type": "code",
      "execution_count": null,
      "metadata": {
        "id": "OF_RMTYg1TJq"
      },
      "outputs": [],
      "source": [
        "#bai7\n",
        "# lister=list(input())\n",
        "# dictionary={}\n",
        "# characters=[]\n",
        "# numbers=[]\n",
        "# for character in lister:\n",
        "#     count=0\n",
        "#     for x in  lister:\n",
        "#         if x == character:\n",
        "#             count+=1\n",
        "#     if character not in characters:\n",
        "#         dictionary[character]=count\n",
        "# print(dictionary)\n",
        "list_input=input()\n",
        "dictionary={}\n",
        "for character in list_input:\n",
        "    if character in dictionary:\n",
        "        dictionary[character]+=1\n",
        "    else:\n",
        "        dictionary[character]=1\n",
        "print(dictionary)\n",
        "\n",
        "\n",
        "\n"
      ]
    },
    {
      "cell_type": "code",
      "source": [
        "#bai8\n",
        "championLOL = [\" Yasuo\" , \" Lee Sin\" , \" Zed\" , \" Master Yi\" , \" Garen\" ,\n",
        "\" Tryndamere\" ]\n",
        "dataLOL = [\n",
        "{\" price\" : 6300, \" Ulti\" : \" Trăn trối\" },\n",
        "{\" price\" : 4800, \" Ulti\" : \" Nộ Long Cước\" },\n",
        "{\" price\" : 4800, \" Ulti\" : \" Dấu Ấn Tử Thần\" },\n",
        "{\" price\" : 450, \" Ulti\" : \" Chiến Binh Sơn Cước\" },\n",
        "{\" price\" : 450, \" Ulti\" : \" Công Lý Demacia\" },\n",
        "{\" price\" : 1350, \" Ulti\" : \" Từ Chối Tử Thần\" }\n",
        "]\n",
        "#mydict={}\n",
        "# for champion,price in zip(championLOL,dataLOL):\n",
        "#     mydict[champion]=price\n",
        "mydict={champion:price for champion,price in zip(championLOL,dataLOL)}\n",
        "print(mydict)\n",
        "s=input()\n",
        "if s in mydict :\n",
        "    print(mydict[s])"
      ],
      "metadata": {
        "id": "xm5P2Ciq1tlJ"
      },
      "execution_count": null,
      "outputs": []
    },
    {
      "cell_type": "code",
      "source": [
        "#bai9\n",
        "import random\n",
        "n=int(input())\n",
        "major=['CNTT','KHMT','KTPM','HTTT']\n",
        "while n<10 or n>=100000:\n",
        "    n=int(input(\"nhap lai\"))\n",
        "dict_info={}\n",
        "for i in range(n):\n",
        "    id_student=2021600000+i+1\n",
        "    password=random.choice(major)+str(id_student)\n",
        "    dict_info[f\"Account{i+1}\"]={\n",
        "        \"usename\":str(id_student),\n",
        "        \"password\":password\n",
        "    }\n",
        "# print(dict_info)\n",
        "for key,value in dict_info.items():\n",
        "    print(key,value)\n"
      ],
      "metadata": {
        "id": "9IGUqop51xV4"
      },
      "execution_count": null,
      "outputs": []
    }
  ]
}